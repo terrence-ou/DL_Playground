{
  "cells": [
    {
      "cell_type": "markdown",
      "metadata": {
        "id": "view-in-github",
        "colab_type": "text"
      },
      "source": [
        "<a href=\"https://colab.research.google.com/github/terrence-ou/DL_Playground/blob/main/ConvNeXt_CenterLoss_Face_Classification_Verification.ipynb\" target=\"_parent\"><img src=\"https://colab.research.google.com/assets/colab-badge.svg\" alt=\"Open In Colab\"/></a>"
      ]
    },
    {
      "cell_type": "markdown",
      "metadata": {
        "id": "7mYqLkkb_hrs"
      },
      "source": [
        "# Face Classification/Verification with ConvNeXt and CenterLoss"
      ]
    },
    {
      "cell_type": "markdown",
      "source": [
        "ConvNeXt: [A ConvNet for the 2020s](https://arxiv.org/abs/2201.03545) \\\n",
        "DataSet: [Kaggle Face Verification](https://www.kaggle.com/competitions/11-785-f22-hw2p2-verification)"
      ],
      "metadata": {
        "id": "VqFKw5jRlqeo"
      }
    },
    {
      "cell_type": "markdown",
      "metadata": {
        "id": "taDDvdrl_r1U"
      },
      "source": [
        "# I. Preliminaries"
      ]
    },
    {
      "cell_type": "markdown",
      "metadata": {
        "id": "lxQg_Jk8lQxd"
      },
      "source": [
        "### Import libraries"
      ]
    },
    {
      "cell_type": "code",
      "execution_count": null,
      "metadata": {
        "colab": {
          "base_uri": "https://localhost:8080/"
        },
        "id": "wVwiRALC_6w0",
        "outputId": "32d480eb-27f8-42b7-9e4a-a9d043898a31"
      },
      "outputs": [
        {
          "output_type": "stream",
          "name": "stdout",
          "text": [
            "Device:  cuda\n"
          ]
        }
      ],
      "source": [
        "import os\n",
        "import random\n",
        "import numpy as np\n",
        "import pandas as pd\n",
        "import gc\n",
        "\n",
        "import torch\n",
        "from torch import nn\n",
        "from torch.nn import functional as F\n",
        "from torchsummary import summary\n",
        "import torchvision\n",
        "\n",
        "import matplotlib.pyplot as plt\n",
        "from tqdm import tqdm\n",
        "from PIL import Image\n",
        "\n",
        "from sklearn.metrics import accuracy_score\n",
        "import glob\n",
        "    \n",
        "DEVICE = 'cuda' if torch.cuda.is_available() else 'cpu'\n",
        "print(\"Device: \", DEVICE)"
      ]
    },
    {
      "cell_type": "code",
      "execution_count": null,
      "metadata": {
        "id": "7DeZZ7l_BenN"
      },
      "outputs": [],
      "source": [
        "# Training configurations\n",
        "config = {\n",
        "    'batch_size': 32,\n",
        "    'lr': 0.1,\n",
        "    'epochs': 20\n",
        "}"
      ]
    },
    {
      "cell_type": "markdown",
      "metadata": {
        "id": "TVwlZWXsAJb6"
      },
      "source": [
        "### Loading files"
      ]
    },
    {
      "cell_type": "code",
      "execution_count": null,
      "metadata": {
        "id": "_QmqKUbxAPOV"
      },
      "outputs": [],
      "source": [
        "if not os.path.exists(\"/root/.kaggle/kaggle.json\"):\n",
        "    !mkdir /root/.kaggle\n",
        "\n",
        "    with open(\"/root/.kaggle/kaggle.json\", \"w+\") as f:\n",
        "        f.write('Your Kaggle API')\n",
        "\n",
        "    !chmod 600 /root/.kaggle/kaggle.json"
      ]
    },
    {
      "cell_type": "code",
      "execution_count": null,
      "metadata": {
        "colab": {
          "base_uri": "https://localhost:8080/"
        },
        "id": "Fr3svnpfASpH",
        "outputId": "766644dd-164e-43d3-ada9-19b7ac3e7dc9"
      },
      "outputs": [
        {
          "output_type": "stream",
          "name": "stdout",
          "text": [
            "11-785-f22-hw2p2-classification.zip: Skipping, found more recently modified local copy (use --force to force download)\n",
            "11-785-f22-hw2p2-verification.zip: Skipping, found more recently modified local copy (use --force to force download)\n"
          ]
        }
      ],
      "source": [
        "!mkdir '/content/data'\n",
        "\n",
        "!kaggle competitions download -c 11-785-f22-hw2p2-classification\n",
        "!unzip -qo '11-785-f22-hw2p2-classification.zip' -d '/content/data'\n",
        "\n",
        "!kaggle competitions download -c 11-785-f22-hw2p2-verification\n",
        "!unzip -qo '11-785-f22-hw2p2-verification.zip' -d '/content/data'"
      ]
    },
    {
      "cell_type": "markdown",
      "metadata": {
        "id": "q9fnhqrxlQxg"
      },
      "source": [
        "---"
      ]
    },
    {
      "cell_type": "markdown",
      "metadata": {
        "id": "rECAl84nlQxh"
      },
      "source": [
        "# II. Datasets and DataLoaders"
      ]
    },
    {
      "cell_type": "markdown",
      "metadata": {
        "id": "5wAbe9KuAUe1"
      },
      "source": [
        "### Datasets"
      ]
    },
    {
      "cell_type": "code",
      "execution_count": null,
      "metadata": {
        "id": "5REbc95qdgbo"
      },
      "outputs": [],
      "source": [
        "DATA_DIR = '/content/data/11-785-f22-hw2p2-classification/'# TODO: Path where you have downloaded the data\n",
        "TRAIN_DIR = os.path.join(DATA_DIR, \"classification/train\") \n",
        "VAL_DIR = os.path.join(DATA_DIR, \"classification/dev\")\n",
        "TEST_DIR = os.path.join(DATA_DIR, \"classification/test\")"
      ]
    },
    {
      "cell_type": "code",
      "execution_count": null,
      "metadata": {
        "id": "qFWcU8RGnWSL"
      },
      "outputs": [],
      "source": [
        "# Image Augmentations\n",
        "train_transforms = torchvision.transforms.Compose([ \n",
        "                    torchvision.transforms.ToTensor(),\n",
        "                    torchvision.transforms.RandomAffine(degrees=10, scale=(0.75, 1.2)),\n",
        "                    torchvision.transforms.ColorJitter(brightness=0.3, hue=0.2, saturation=0.5),\n",
        "                    torchvision.transforms.RandomHorizontalFlip(0.5),\n",
        "                    torchvision.transforms.Normalize(mean=[0.485, 0.456, 0.406], std=[0.229, 0.224, 0.225])\n",
        "                    ])\n",
        "\n",
        "# We only do ToTensor and Normalize on the evaluation dataset\n",
        "eval_transforms = torchvision.transforms.Compose([ \n",
        "                    torchvision.transforms.ToTensor(),\n",
        "                    torchvision.transforms.Normalize(mean=[0.485, 0.456, 0.406], std=[0.229, 0.224, 0.225])\n",
        "                    ])\n",
        "\n"
      ]
    },
    {
      "cell_type": "code",
      "execution_count": null,
      "metadata": {
        "id": "bLhOgILndhD8"
      },
      "outputs": [],
      "source": [
        "# Dataset class for test dataset\n",
        "class VGGFaceTestDataset(torch.utils.data.Dataset):\n",
        "\n",
        "    def __init__(self, data_dir):\n",
        "        self.data_dir = data_dir\n",
        "\n",
        "        # Get the path of \n",
        "        self.img_paths  = list(map(lambda fname: os.path.join(self.data_dir, fname), sorted(os.listdir(self.data_dir))))\n",
        "\n",
        "    def __len__(self):\n",
        "        return len(self.img_paths)\n",
        "    \n",
        "    def __getitem__(self, idx):\n",
        "        img = Image.open(self.img_paths[idx])\n",
        "        # Transform the image to tensor\n",
        "        to_tensor = torchvision.transforms.ToTensor()\n",
        "        img = to_tensor(img)\n",
        "\n",
        "        # Normalize the image\n",
        "        mean = img.mean((1, 2))\n",
        "        std = img.std((1, 2))\n",
        "        normalize = torchvision.transforms.Normalize(mean=[0.485, 0.456, 0.406], std=[0.229, 0.224, 0.225])\n",
        "        img_norm = normalize(img)\n",
        "\n",
        "        # return img_norm\n",
        "        return img_norm"
      ]
    },
    {
      "cell_type": "code",
      "execution_count": null,
      "metadata": {
        "id": "hjWTBTaslQxj"
      },
      "outputs": [],
      "source": [
        "train_dataset = torchvision.datasets.ImageFolder(TRAIN_DIR, transform=train_transforms)\n",
        "val_dataset = torchvision.datasets.ImageFolder(VAL_DIR, transform=eval_transforms)\n",
        "test_dataset = VGGFaceTestDataset(TEST_DIR)"
      ]
    },
    {
      "cell_type": "markdown",
      "metadata": {
        "id": "vujVzhl0lQxj"
      },
      "source": [
        "### DataLoaders"
      ]
    },
    {
      "cell_type": "code",
      "execution_count": null,
      "metadata": {
        "id": "Sv_Pl3WciJ0g"
      },
      "outputs": [],
      "source": [
        "# Creating dataloaders for all three datasets\n",
        "train_loader = torch.utils.data.DataLoader(train_dataset, batch_size = config['batch_size'], \n",
        "                                           shuffle = True, pin_memory = True)\n",
        "\n",
        "val_loader = torch.utils.data.DataLoader(val_dataset, batch_size = config['batch_size'], \n",
        "                                         shuffle = False, pin_memory = True)\n",
        "\n",
        "test_loader = torch.utils.data.DataLoader(test_dataset, batch_size = config['batch_size'], shuffle = False,\n",
        "                                          drop_last = False)"
      ]
    },
    {
      "cell_type": "code",
      "execution_count": null,
      "metadata": {
        "colab": {
          "base_uri": "https://localhost:8080/"
        },
        "id": "jkM11AyGiRY1",
        "outputId": "69a0e0b2-b7ff-4574-b204-ae9ca0a2435c"
      },
      "outputs": [
        {
          "output_type": "stream",
          "name": "stdout",
          "text": [
            "Number of classes:  7000\n",
            "No. of train images:  140000\n",
            "No. of val images:  35000\n",
            "Shape of image:  torch.Size([3, 224, 224])\n",
            "Batch size:  32\n",
            "Train batches:  4375\n",
            "Val batches:  1094\n"
          ]
        }
      ],
      "source": [
        "print(\"Number of classes: \", len(train_dataset.classes))\n",
        "print(\"No. of train images: \", train_dataset.__len__())\n",
        "print(\"No. of val images: \", val_dataset.__len__())\n",
        "print(\"Shape of image: \", train_dataset[0][0].shape)\n",
        "print(\"Batch size: \", config['batch_size'])\n",
        "print(\"Train batches: \", train_loader.__len__())\n",
        "print(\"Val batches: \", val_loader.__len__())"
      ]
    },
    {
      "cell_type": "markdown",
      "metadata": {
        "id": "JTXFKapaBlAx"
      },
      "source": [
        "### Sanity Check"
      ]
    },
    {
      "cell_type": "code",
      "execution_count": null,
      "metadata": {
        "id": "RTT6q1korPsE"
      },
      "outputs": [],
      "source": [
        "def plot_samples(dataloader):\n",
        "    \n",
        "    imgs, labels = next(iter(dataloader))\n",
        "    sample = [random.randint(0, config[\"batch_size\"]) for i in range(4)]\n",
        "    imgs = imgs[sample].permute(0, 2, 3, 1)\n",
        "    labels = labels[sample]\n",
        "    \n",
        "    fig, ax = plt.subplots(1, 4, figsize=(12, 6))\n",
        "    for i in range(4):\n",
        "        # Because the image is normalized, which makes color wired,\n",
        "        # so we only show one channel in grayscale here for sanity check\n",
        "        ax[i].imshow(imgs[i][:, :, 0], cmap=\"gray\", vmin=0, vmax=1)\n",
        "        ax[i].axis(False)\n",
        "        ax[i].set_title(f\"Class: {labels[i].item()}\")\n",
        "    plt.show()"
      ]
    },
    {
      "cell_type": "code",
      "execution_count": null,
      "metadata": {
        "colab": {
          "base_uri": "https://localhost:8080/",
          "height": 402
        },
        "id": "Lvj7YL91lQxk",
        "outputId": "41e3eb4f-76c2-4557-d7ed-12691716492f"
      },
      "outputs": [
        {
          "output_type": "stream",
          "name": "stdout",
          "text": [
            "Train Data:\n"
          ]
        },
        {
          "output_type": "display_data",
          "data": {
            "text/plain": [
              "<Figure size 864x432 with 4 Axes>"
            ],
            "image/png": "[encoded data removed]"
          },
          "metadata": {
            "needs_background": "light"
          }
        },
        {
          "output_type": "stream",
          "name": "stdout",
          "text": [
            "Validation Data:\n"
          ]
        },
        {
          "output_type": "display_data",
          "data": {
            "text/plain": [
              "<Figure size 864x432 with 4 Axes>"
            ],
            "image/png": "[encoded data removed]"
          },
          "metadata": {
            "needs_background": "light"
          }
        }
      ],
      "source": [
        "print(\"Train Data:\")\n",
        "plot_samples(train_loader)\n",
        "\n",
        "print(\"Validation Data:\")\n",
        "plot_samples(val_loader)"
      ]
    },
    {
      "cell_type": "markdown",
      "metadata": {
        "id": "Ks34v5mHlQxk"
      },
      "source": [
        "---"
      ]
    },
    {
      "cell_type": "markdown",
      "metadata": {
        "id": "DiegyjD4lQxl"
      },
      "source": [
        "# III. ConvNeXt Model from Scratch"
      ]
    },
    {
      "cell_type": "markdown",
      "metadata": {
        "id": "5Cwr1pL9By7N"
      },
      "source": [
        "### DropPath\n",
        "randomly \"drop\" some of the paths through the network by setting the activations of certain neurons to zero. This helps to prevent the network from becoming too dependent on any one set of weights, and can improve its performance on test data. <br>\n",
        "Reference: [DropPath GitHub](https://github.com/rwightman/pytorch-image-models/blob/b944546200f81ebe5f688cb523aaf3423a437b81/timm/models/layers/drop.py#L137)"
      ]
    },
    {
      "cell_type": "code",
      "execution_count": null,
      "metadata": {
        "id": "8WAUQZpoB6Bt"
      },
      "outputs": [],
      "source": [
        "def drop_path(x, drop_prob=0.0, training=False, scale_by_keep=True):\n",
        "    '''\n",
        "    By setting scale_by_keep to True, the model factorize some paths rather\n",
        "    than cancel out them\n",
        "    '''\n",
        "    \n",
        "    if drop_prob == 0.0 or not training:\n",
        "        return x\n",
        "    keep_prob = 1 - drop_prob\n",
        "    shape = (x.shape[0], ) + (1, ) * (x.ndim - 1)\n",
        "    random_tensor = x.new_empty(shape).bernoulli_(keep_prob)\n",
        "    if keep_prob > 0.0 and scale_by_keep:\n",
        "        random_tensor.div_(keep_prob)\n",
        "    return x * random_tensor"
      ]
    },
    {
      "cell_type": "code",
      "execution_count": null,
      "metadata": {
        "id": "5G-TKXWdB-sN"
      },
      "outputs": [],
      "source": [
        "class DropPath(nn.Module):\n",
        "    def __init__(self, drop_prob=0.0, scale_by_keep=True):\n",
        "        super().__init__()\n",
        "        self.drop_prob = drop_prob\n",
        "        self.scale_by_keep = scale_by_keep\n",
        "    \n",
        "    def forward(self, X):\n",
        "        return drop_path(X, self.drop_prob, self.training, self.scale_by_keep)\n",
        "    \n",
        "    def extra_repr(self):\n",
        "        return f\"drop_prob={round(self.drop_prob, 3):0.3f}\""
      ]
    },
    {
      "cell_type": "markdown",
      "metadata": {
        "id": "8l1O1gIpB_d3"
      },
      "source": [
        "### ConvNeXt Block"
      ]
    },
    {
      "cell_type": "code",
      "execution_count": null,
      "metadata": {
        "id": "rZRzFsnWCGJv"
      },
      "outputs": [],
      "source": [
        "class Block(nn.Module):\n",
        "    '''\n",
        "    Args: \n",
        "        dim (int): number of input channels\n",
        "        drop_path (float): Stochastic depth rate. Default: 0.0\n",
        "        layer_scale_init_val (float): Initialize value for Layer Scale. Default: 1e-6\n",
        "    '''\n",
        "    def __init__(self, dim, drop_path=0, layer_scale_init_val=1e-6):\n",
        "        super().__init__()\n",
        "        self.dwconv = nn.Conv2d(dim, dim, kernel_size=7, padding=3, groups=dim) # This is depth-wise convolution\n",
        "        # In this task we use BatchNorm rather than LayerNorm proposed in the paper\n",
        "        self.norm = nn.BatchNorm2d(dim)\n",
        "        self.pwconv1 = nn.Linear(dim, 4*dim)\n",
        "        self.act = nn.GELU()\n",
        "        self.pwconv2 = nn.Linear(4*dim, dim)\n",
        "        self.gamma = nn.Parameter(layer_scale_init_val * torch.ones((dim)), \n",
        "                                  requires_grad=True) if layer_scale_init_val > 0 else None # Layer-wise lr decay\n",
        "        self.drop_path = DropPath(drop_path) if drop_path > 0 else nn.Identity() \n",
        "    \n",
        "    def forward(self, X):\n",
        "        input = X\n",
        "        X = self.dwconv(X)\n",
        "        #print(X.shape)\n",
        "        X = self.norm(X)\n",
        "        X = X.permute(0, 2, 3, 1) # (N, C, H, W) -> (N, H, W, C)\n",
        "        X = self.pwconv1(X)\n",
        "        #print(X.shape)\n",
        "        X = self.act(X)\n",
        "        X = self.pwconv2(X) \n",
        "        #print(X.shape)\n",
        "        if self.gamma is not None:\n",
        "            X = self.gamma * X\n",
        "        X = X.permute(0, 3, 1, 2) # (N, H, W, C) -> (N, C, H, W)\n",
        "        \n",
        "        X = input + self.drop_path(X)\n",
        "        return X"
      ]
    },
    {
      "cell_type": "markdown",
      "metadata": {
        "id": "X2Ym97QcCJrX"
      },
      "source": [
        "## ConvNeXt Body"
      ]
    },
    {
      "cell_type": "code",
      "execution_count": null,
      "metadata": {
        "id": "mznh0pbwCMpu"
      },
      "outputs": [],
      "source": [
        "class ConvNeXt(nn.Module):\n",
        "    '''\n",
        "    Args:\n",
        "        in_chans (int): Number of input channels. Default: 3\n",
        "        num_classes (int): Number of classes for classification. Default: 7000\n",
        "        depths (tuple(int)): Number of blocks at each stage. Default: (3, 3, 27, 3)\n",
        "        dims (tuple(int)): The dimension at each stage. Default: (128, 256, 512, 1024) <- this is the setup of base model\n",
        "        drop_path_rate (float): Stochastic depth rate. Default: 0\n",
        "        layer_scale_init_val (float): Init value for Layer Scale (layer-wise learning rate decay). Default: 1e-6 \n",
        "        head_init_scale (float): Init scaling value for classifier weights and biases. default: 1\n",
        "        \n",
        "        \n",
        "        Models:\n",
        "        tiny: depths=[3, 3, 9, 3], dims=[96, 192, 384, 768]\n",
        "        small: depths=[3, 3, 27, 3], dims=[96, 192, 384, 768]\n",
        "        base: depths=[3, 3, 27, 3], dims=[128, 256, 512, 1024]\n",
        "        large: depths=[3, 3, 27, 3], dims=[192, 384, 768, 1536]\n",
        "    '''\n",
        "    def __init__(self, in_chans=3, num_classes=7000, depths=[3, 3, 9, 3], dims=[96, 192, 384, 768], drop_path_rate=0.,\n",
        "                 layer_scale_init_val=1e-6, head_init_scale=1.):\n",
        "        super().__init__()\n",
        "\n",
        "        self.downsample_layers = nn.ModuleList() # First and three intermediate dowmsampling conv layers\n",
        "\n",
        "        stem = nn.Sequential(nn.Conv2d(in_chans, dims[0], kernel_size=4, stride=4),\n",
        "                             nn.BatchNorm2d(dims[0]))\n",
        "        self.downsample_layers.append(stem)\n",
        "        \n",
        "        # Creating a downsampling layers\n",
        "        for i in range(3):\n",
        "            downsample_layer = nn.Sequential(\n",
        "                nn.BatchNorm2d(dims[i]),\n",
        "                nn.Conv2d(dims[i], dims[i+1], kernel_size=2, stride=2)\n",
        "            )\n",
        "            self.downsample_layers.append(downsample_layer)\n",
        "        \n",
        "\n",
        "        self.stages = nn.ModuleList() # 4 feature resolution stages, each consisting residule blocks\n",
        "        dp_rates = [x.item() for x in torch.linspace(0, drop_path_rate, sum(depths))]\n",
        "        cur = 0\n",
        "\n",
        "        # Creating ConvNeXt blocks\n",
        "        for i in range(4):\n",
        "            stage = nn.Sequential(\n",
        "                *[Block(dim=dims[i], drop_path=dp_rates[cur+j], \n",
        "                        layer_scale_init_val=layer_scale_init_val) for j in range(depths[i])]\n",
        "            )\n",
        "            self.stages.append(stage)\n",
        "            cur += depths[i]\n",
        "        \n",
        "        self.norm = nn.BatchNorm1d(dims[-1])\n",
        "        self.head = nn.Linear(dims[-1], num_classes)\n",
        "\n",
        "        self.apply(self._init_weights)\n",
        "        self.head.weight.data.mul_(head_init_scale)\n",
        "        self.head.bias.data.mul_(head_init_scale)\n",
        "\n",
        "    # Weight initialization\n",
        "    def _init_weights(self, module):\n",
        "        if isinstance(module, (nn.Conv2d, nn.Linear)):\n",
        "            nn.init.kaiming_uniform_(module.weight)\n",
        "            nn.init.constant_(module.bias, 0)\n",
        "\n",
        "    # Reture embedded features\n",
        "    def forward_feats(self, X):\n",
        "        for i in range(4):\n",
        "            X = self.downsample_layers[i](X)\n",
        "            X = self.stages[i](X)\n",
        "        return self.norm(X.mean([-2, -1])) # Global average pooling, (N, C, H, W) -> (N, C)\n",
        "    \n",
        "    # Return classification\n",
        "    def forward(self, X, return_feats=False):\n",
        "        X = self.forward_feats(X)\n",
        "        if return_feats:\n",
        "            return X, self.head(X)\n",
        "        else:\n",
        "            return self.head(X)"
      ]
    },
    {
      "cell_type": "code",
      "execution_count": null,
      "metadata": {
        "colab": {
          "base_uri": "https://localhost:8080/"
        },
        "id": "MDBg4w2nCPtT",
        "outputId": "0988b02c-6ba6-4959-98df-964567eb7ccb"
      },
      "outputs": [
        {
          "output_type": "stream",
          "name": "stdout",
          "text": [
            "----------------------------------------------------------------\n",
            "        Layer (type)               Output Shape         Param #\n",
            "================================================================\n",
            "            Conv2d-1           [-1, 96, 56, 56]           4,704\n",
            "       BatchNorm2d-2           [-1, 96, 56, 56]             192\n",
            "            Conv2d-3           [-1, 96, 56, 56]           4,800\n",
            "       BatchNorm2d-4           [-1, 96, 56, 56]             192\n",
            "            Linear-5          [-1, 56, 56, 384]          37,248\n",
            "              GELU-6          [-1, 56, 56, 384]               0\n",
            "            Linear-7           [-1, 56, 56, 96]          36,960\n",
            "          Identity-8           [-1, 96, 56, 56]               0\n",
            "             Block-9           [-1, 96, 56, 56]               0\n",
            "           Conv2d-10           [-1, 96, 56, 56]           4,800\n",
            "      BatchNorm2d-11           [-1, 96, 56, 56]             192\n",
            "           Linear-12          [-1, 56, 56, 384]          37,248\n",
            "             GELU-13          [-1, 56, 56, 384]               0\n",
            "           Linear-14           [-1, 56, 56, 96]          36,960\n",
            "         DropPath-15           [-1, 96, 56, 56]               0\n",
            "            Block-16           [-1, 96, 56, 56]               0\n",
            "           Conv2d-17           [-1, 96, 56, 56]           4,800\n",
            "      BatchNorm2d-18           [-1, 96, 56, 56]             192\n",
            "           Linear-19          [-1, 56, 56, 384]          37,248\n",
            "             GELU-20          [-1, 56, 56, 384]               0\n",
            "           Linear-21           [-1, 56, 56, 96]          36,960\n",
            "         DropPath-22           [-1, 96, 56, 56]               0\n",
            "            Block-23           [-1, 96, 56, 56]               0\n",
            "      BatchNorm2d-24           [-1, 96, 56, 56]             192\n",
            "           Conv2d-25          [-1, 192, 28, 28]          73,920\n",
            "           Conv2d-26          [-1, 192, 28, 28]           9,600\n",
            "      BatchNorm2d-27          [-1, 192, 28, 28]             384\n",
            "           Linear-28          [-1, 28, 28, 768]         148,224\n",
            "             GELU-29          [-1, 28, 28, 768]               0\n",
            "           Linear-30          [-1, 28, 28, 192]         147,648\n",
            "         DropPath-31          [-1, 192, 28, 28]               0\n",
            "            Block-32          [-1, 192, 28, 28]               0\n",
            "           Conv2d-33          [-1, 192, 28, 28]           9,600\n",
            "      BatchNorm2d-34          [-1, 192, 28, 28]             384\n",
            "           Linear-35          [-1, 28, 28, 768]         148,224\n",
            "             GELU-36          [-1, 28, 28, 768]               0\n",
            "           Linear-37          [-1, 28, 28, 192]         147,648\n",
            "         DropPath-38          [-1, 192, 28, 28]               0\n",
            "            Block-39          [-1, 192, 28, 28]               0\n",
            "           Conv2d-40          [-1, 192, 28, 28]           9,600\n",
            "      BatchNorm2d-41          [-1, 192, 28, 28]             384\n",
            "           Linear-42          [-1, 28, 28, 768]         148,224\n",
            "             GELU-43          [-1, 28, 28, 768]               0\n",
            "           Linear-44          [-1, 28, 28, 192]         147,648\n",
            "         DropPath-45          [-1, 192, 28, 28]               0\n",
            "            Block-46          [-1, 192, 28, 28]               0\n",
            "      BatchNorm2d-47          [-1, 192, 28, 28]             384\n",
            "           Conv2d-48          [-1, 384, 14, 14]         295,296\n",
            "           Conv2d-49          [-1, 384, 14, 14]          19,200\n",
            "      BatchNorm2d-50          [-1, 384, 14, 14]             768\n",
            "           Linear-51         [-1, 14, 14, 1536]         591,360\n",
            "             GELU-52         [-1, 14, 14, 1536]               0\n",
            "           Linear-53          [-1, 14, 14, 384]         590,208\n",
            "         DropPath-54          [-1, 384, 14, 14]               0\n",
            "            Block-55          [-1, 384, 14, 14]               0\n",
            "           Conv2d-56          [-1, 384, 14, 14]          19,200\n",
            "      BatchNorm2d-57          [-1, 384, 14, 14]             768\n",
            "           Linear-58         [-1, 14, 14, 1536]         591,360\n",
            "             GELU-59         [-1, 14, 14, 1536]               0\n",
            "           Linear-60          [-1, 14, 14, 384]         590,208\n",
            "         DropPath-61          [-1, 384, 14, 14]               0\n",
            "            Block-62          [-1, 384, 14, 14]               0\n",
            "           Conv2d-63          [-1, 384, 14, 14]          19,200\n",
            "      BatchNorm2d-64          [-1, 384, 14, 14]             768\n",
            "           Linear-65         [-1, 14, 14, 1536]         591,360\n",
            "             GELU-66         [-1, 14, 14, 1536]               0\n",
            "           Linear-67          [-1, 14, 14, 384]         590,208\n",
            "         DropPath-68          [-1, 384, 14, 14]               0\n",
            "            Block-69          [-1, 384, 14, 14]               0\n",
            "           Conv2d-70          [-1, 384, 14, 14]          19,200\n",
            "      BatchNorm2d-71          [-1, 384, 14, 14]             768\n",
            "           Linear-72         [-1, 14, 14, 1536]         591,360\n",
            "             GELU-73         [-1, 14, 14, 1536]               0\n",
            "           Linear-74          [-1, 14, 14, 384]         590,208\n",
            "         DropPath-75          [-1, 384, 14, 14]               0\n",
            "            Block-76          [-1, 384, 14, 14]               0\n",
            "           Conv2d-77          [-1, 384, 14, 14]          19,200\n",
            "      BatchNorm2d-78          [-1, 384, 14, 14]             768\n",
            "           Linear-79         [-1, 14, 14, 1536]         591,360\n",
            "             GELU-80         [-1, 14, 14, 1536]               0\n",
            "           Linear-81          [-1, 14, 14, 384]         590,208\n",
            "         DropPath-82          [-1, 384, 14, 14]               0\n",
            "            Block-83          [-1, 384, 14, 14]               0\n",
            "           Conv2d-84          [-1, 384, 14, 14]          19,200\n",
            "      BatchNorm2d-85          [-1, 384, 14, 14]             768\n",
            "           Linear-86         [-1, 14, 14, 1536]         591,360\n",
            "             GELU-87         [-1, 14, 14, 1536]               0\n",
            "           Linear-88          [-1, 14, 14, 384]         590,208\n",
            "         DropPath-89          [-1, 384, 14, 14]               0\n",
            "            Block-90          [-1, 384, 14, 14]               0\n",
            "           Conv2d-91          [-1, 384, 14, 14]          19,200\n",
            "      BatchNorm2d-92          [-1, 384, 14, 14]             768\n",
            "           Linear-93         [-1, 14, 14, 1536]         591,360\n",
            "             GELU-94         [-1, 14, 14, 1536]               0\n",
            "           Linear-95          [-1, 14, 14, 384]         590,208\n",
            "         DropPath-96          [-1, 384, 14, 14]               0\n",
            "            Block-97          [-1, 384, 14, 14]               0\n",
            "           Conv2d-98          [-1, 384, 14, 14]          19,200\n",
            "      BatchNorm2d-99          [-1, 384, 14, 14]             768\n",
            "          Linear-100         [-1, 14, 14, 1536]         591,360\n",
            "            GELU-101         [-1, 14, 14, 1536]               0\n",
            "          Linear-102          [-1, 14, 14, 384]         590,208\n",
            "        DropPath-103          [-1, 384, 14, 14]               0\n",
            "           Block-104          [-1, 384, 14, 14]               0\n",
            "          Conv2d-105          [-1, 384, 14, 14]          19,200\n",
            "     BatchNorm2d-106          [-1, 384, 14, 14]             768\n",
            "          Linear-107         [-1, 14, 14, 1536]         591,360\n",
            "            GELU-108         [-1, 14, 14, 1536]               0\n",
            "          Linear-109          [-1, 14, 14, 384]         590,208\n",
            "        DropPath-110          [-1, 384, 14, 14]               0\n",
            "           Block-111          [-1, 384, 14, 14]               0\n",
            "     BatchNorm2d-112          [-1, 384, 14, 14]             768\n",
            "          Conv2d-113            [-1, 768, 7, 7]       1,180,416\n",
            "          Conv2d-114            [-1, 768, 7, 7]          38,400\n",
            "     BatchNorm2d-115            [-1, 768, 7, 7]           1,536\n",
            "          Linear-116           [-1, 7, 7, 3072]       2,362,368\n",
            "            GELU-117           [-1, 7, 7, 3072]               0\n",
            "          Linear-118            [-1, 7, 7, 768]       2,360,064\n",
            "        DropPath-119            [-1, 768, 7, 7]               0\n",
            "           Block-120            [-1, 768, 7, 7]               0\n",
            "          Conv2d-121            [-1, 768, 7, 7]          38,400\n",
            "     BatchNorm2d-122            [-1, 768, 7, 7]           1,536\n",
            "          Linear-123           [-1, 7, 7, 3072]       2,362,368\n",
            "            GELU-124           [-1, 7, 7, 3072]               0\n",
            "          Linear-125            [-1, 7, 7, 768]       2,360,064\n",
            "        DropPath-126            [-1, 768, 7, 7]               0\n",
            "           Block-127            [-1, 768, 7, 7]               0\n",
            "          Conv2d-128            [-1, 768, 7, 7]          38,400\n",
            "     BatchNorm2d-129            [-1, 768, 7, 7]           1,536\n",
            "          Linear-130           [-1, 7, 7, 3072]       2,362,368\n",
            "            GELU-131           [-1, 7, 7, 3072]               0\n",
            "          Linear-132            [-1, 7, 7, 768]       2,360,064\n",
            "        DropPath-133            [-1, 768, 7, 7]               0\n",
            "           Block-134            [-1, 768, 7, 7]               0\n",
            "     BatchNorm1d-135                  [-1, 768]           1,536\n",
            "          Linear-136                 [-1, 7000]       5,383,000\n",
            "================================================================\n",
            "Total params: 33,196,504\n",
            "Trainable params: 33,196,504\n",
            "Non-trainable params: 0\n",
            "----------------------------------------------------------------\n",
            "Input size (MB): 0.57\n",
            "Forward/backward pass size (MB): 223.43\n",
            "Params size (MB): 126.63\n",
            "Estimated Total Size (MB): 350.64\n",
            "----------------------------------------------------------------\n"
          ]
        }
      ],
      "source": [
        "torch.cuda.empty_cache()\n",
        "model = ConvNeXt(drop_path_rate=0.20).to(DEVICE)\n",
        "summary(model, (3, 224, 224))"
      ]
    },
    {
      "cell_type": "markdown",
      "metadata": {
        "id": "dynS3MP-lQxm"
      },
      "source": [
        "---"
      ]
    },
    {
      "cell_type": "markdown",
      "metadata": {
        "id": "ZwOLi7kDlQxm"
      },
      "source": [
        "# IV. Training Setups"
      ]
    },
    {
      "cell_type": "markdown",
      "metadata": {
        "id": "FZH7nBrrlb1y"
      },
      "source": [
        "### Center Loss"
      ]
    },
    {
      "cell_type": "markdown",
      "metadata": {
        "id": "jknZf94AlQxn"
      },
      "source": [
        "Center loss helps to improve discriminative feature learning for Face Verification task\n",
        "$$\\mathcal{L_C} = \\frac{1}{2}\\sum_{i=1}^{m}\\|x_i - c_{yi} \\|^2_2$$"
      ]
    },
    {
      "cell_type": "code",
      "execution_count": null,
      "metadata": {
        "id": "Ntv_dTRblbCg"
      },
      "outputs": [],
      "source": [
        "class CenterLoss(nn.Module):\n",
        "    \"\"\"Center Loss\n",
        "        Center Loss Paper:\n",
        "        https://ydwen.github.io/papers/WenECCV16.pdf\n",
        "    Args:\n",
        "        nn (_type_): _description_\n",
        "    \"\"\"\n",
        "    def __init__(self, num_classes=7000, feat_dim=768):\n",
        "        super(CenterLoss, self).__init__()\n",
        "        self.num_classes = num_classes\n",
        "        self.feat_dim = feat_dim\n",
        "        self.centers = nn.Parameter(torch.randn(self.num_classes, self.feat_dim).cuda())\n",
        "\n",
        "    def forward(self, x, labels):\n",
        "        \"\"\"\n",
        "        Args:\n",
        "            x: feature matrix with shape (batch_size, feat_dim).\n",
        "            labels: ground truth labels with shape (batch_size).\n",
        "        \"\"\"\n",
        "        centers = self.centers[labels]\n",
        "        dist = torch.sum((x - centers) ** 2, axis=1)\n",
        "        # Each element in dist is actually the Center Loss of each input\n",
        "        # Here we have to first wrap 'dist' inside torch.clamp() function, because log(0) will cause NaN output. \n",
        "        dist = torch.clamp(dist, min=1e-12, max=1e+12)\n",
        "        # To avoid the 0 in 'dist', we will set the lower bound in 'dist' to a value that is close to 0\n",
        "        loss = torch.sum(dist) / (2 * len(x))\n",
        "        return loss"
      ]
    },
    {
      "cell_type": "code",
      "execution_count": null,
      "metadata": {
        "id": "PgYFInR2CTVY"
      },
      "outputs": [],
      "source": [
        "criterion = nn.CrossEntropyLoss(label_smoothing=0.2)\n",
        "optimizer = torch.optim.SGD(model.parameters(), momentum=0.9 ,lr=config['lr'], weight_decay=1e-4, nesterov=True)\n",
        "\n",
        "centerLoss = CenterLoss()\n",
        "optimizer_center_loss = torch.optim.SGD(centerLoss.parameters(), lr=0.1)\n",
        "\n",
        "# mixed precision training\n",
        "scaler = torch.cuda.amp.GradScaler()\n",
        "\n",
        "scheduler = torch.optim.lr_scheduler.ReduceLROnPlateau(optimizer, factor=0.7, patience=3)\n",
        "scheduler_center_loss = torch.optim.lr_scheduler.ReduceLROnPlateau(optimizer_center_loss, factor=0.7, patience=3)"
      ]
    },
    {
      "cell_type": "markdown",
      "metadata": {
        "id": "PFtq6jonDXQ3"
      },
      "source": [
        "### Train and Validation Functions"
      ]
    },
    {
      "cell_type": "code",
      "execution_count": null,
      "metadata": {
        "id": "AHWzBiwKDV3a"
      },
      "outputs": [],
      "source": [
        "def train(model, dataloader, optimizer, optimizer_center_loss, criterion, fine_tuning_loss, loss_weight=0.01):\n",
        "\n",
        "    model.train()\n",
        "\n",
        "    # Progress Bar \n",
        "    batch_bar = tqdm(total=len(dataloader), dynamic_ncols=True, leave=False, position=0, desc='Train', ncols=5) \n",
        "    \n",
        "    num_correct = 0\n",
        "    total_loss = 0\n",
        "    center_loss = 0\n",
        "\n",
        "    for i, (images, labels) in enumerate(dataloader):\n",
        "        \n",
        "        # Zero grad both optimizers\n",
        "        optimizer.zero_grad() \n",
        "        optimizer_center_loss.zero_grad()\n",
        "\n",
        "        images, labels = images.to(DEVICE), labels.to(DEVICE)\n",
        "        \n",
        "        with torch.cuda.amp.autocast(): \n",
        "            feats, outputs = model(images, return_feats=True)\n",
        "            loss0 = criterion(outputs, labels) # Cross Entropy Loss\n",
        "            loss1 = loss_weight * fine_tuning_loss(feats, labels) # Center Loss\n",
        "\n",
        "        # Update no. of correct predictions & loss as we iterate\n",
        "        num_correct += int((torch.argmax(outputs, axis=1) == labels).sum())\n",
        "        total_loss += float(loss0.item())\n",
        "        center_loss += float(loss1.item())\n",
        "\n",
        "        \n",
        "        batch_bar.set_postfix(\n",
        "            acc=\"{:.04f}%\".format(100 * num_correct / (config['batch_size']*(i + 1))),\n",
        "            loss=\"{:.04f}\".format(float(total_loss / (i + 1))),\n",
        "            center_loss=\"{:.04f}\".format(float(center_loss / (i + 1)))\n",
        "            )\n",
        "        \n",
        "        scaler.scale(loss0).backward(retain_graph=True)\n",
        "        scaler.scale(loss1).backward()\n",
        "\n",
        "        # for parameter in fine_tuning_loss.parameters():\n",
        "        #     parameter.grad.data *= (1.0 / loss_weight)\n",
        "\n",
        "        scaler.step(optimizer_center_loss)\n",
        "        scaler.step(optimizer)\n",
        "        \n",
        "        scaler.update() \n",
        "        batch_bar.update()\n",
        "        \n",
        "        torch.cuda.empty_cache()\n",
        "        del images, labels, feats, outputs\n",
        "\n",
        "    batch_bar.close()\n",
        "    \n",
        "    acc = 100 * num_correct / (config['batch_size']* len(dataloader))\n",
        "    total_loss = float(total_loss / len(dataloader))\n",
        "    center_loss = float(center_loss / len(dataloader))\n",
        "\n",
        "    return acc, total_loss, center_loss"
      ]
    },
    {
      "cell_type": "code",
      "execution_count": null,
      "metadata": {
        "id": "in5aLzviDiHn"
      },
      "outputs": [],
      "source": [
        "def validate(model, dataloader, criterion):\n",
        "  \n",
        "    model.eval()\n",
        "    batch_bar = tqdm(total=len(dataloader), dynamic_ncols=True, position=0, leave=False, desc='Val', ncols=5)\n",
        "\n",
        "    num_correct = 0.0\n",
        "    total_loss = 0.0\n",
        "\n",
        "    for i, (images, labels) in enumerate(dataloader):\n",
        "        \n",
        "        images, labels = images.to(DEVICE), labels.to(DEVICE)\n",
        "        \n",
        "        # We don't calculate center loss in validation\n",
        "        with torch.inference_mode():\n",
        "            outputs = model(images)\n",
        "            loss = criterion(outputs, labels)\n",
        "\n",
        "        num_correct += int((torch.argmax(outputs, axis=1) == labels).sum())\n",
        "        total_loss += float(loss.item())\n",
        "\n",
        "        batch_bar.set_postfix(\n",
        "            acc=\"{:.04f}%\".format(100 * num_correct / (config['batch_size']*(i + 1))),\n",
        "            loss=\"{:.04f}\".format(float(total_loss / (i + 1))),\n",
        "            num_correct=num_correct)\n",
        "\n",
        "        batch_bar.update()\n",
        "        torch.cuda.empty_cache()\n",
        "        del images, labels, outputs\n",
        "        \n",
        "        \n",
        "    batch_bar.close()\n",
        "    acc = 100 * num_correct / (config['batch_size']* len(dataloader))\n",
        "    total_loss = float(total_loss / len(dataloader))\n",
        "    return acc, total_loss"
      ]
    },
    {
      "cell_type": "code",
      "execution_count": null,
      "metadata": {
        "colab": {
          "base_uri": "https://localhost:8080/"
        },
        "id": "WzryStFmDkWr",
        "outputId": "5a9f68f3-eb8c-4c2c-853b-043a50ce8845"
      },
      "outputs": [
        {
          "output_type": "stream",
          "name": "stderr",
          "text": []
        }
      ],
      "source": [
        "gc.collect() # These commands help you when you face CUDA OOM error\n",
        "torch.cuda.empty_cache()"
      ]
    },
    {
      "cell_type": "markdown",
      "source": [
        "---"
      ],
      "metadata": {
        "id": "14hpbRrgvC0o"
      }
    },
    {
      "cell_type": "markdown",
      "metadata": {
        "id": "nFqpAJo6DuN4"
      },
      "source": [
        "# V. Training\n",
        "Be patient with training. As the dataset has 7000 classes, the train/valid accuracy will be very low at first 10 epochs. But after 40 epochs, the train accuracy can go up to 90% and the validation accuracy can arrive around 70%"
      ]
    },
    {
      "cell_type": "code",
      "execution_count": null,
      "metadata": {
        "id": "i3yczis5Dv-T"
      },
      "outputs": [],
      "source": [
        "best_valacc = 0.0\n",
        "\n",
        "center_loss_hist = []\n",
        "cross_entro_hist = []\n",
        "valid_loss_hist = []\n",
        "\n",
        "train_acc_hist = []\n",
        "val_acc_hist = []\n",
        "\n",
        "for epoch in range(config['epochs']):\n",
        "\n",
        "    curr_lr = float(optimizer.param_groups[0]['lr'])\n",
        "\n",
        "    train_acc, train_loss, center_loss = train(model, train_loader, optimizer, optimizer_center_loss, criterion, centerLoss)\n",
        "\n",
        "    print(\"\\nEpoch {}/{}: \\nTrain Acc {:.04f}%\\t Train Loss {:.04f}\\t Ceter Loss {:.04f} \\t Learning Rate {:.04f}\".format(\n",
        "        epoch + 1,\n",
        "        config['epochs'],\n",
        "        train_acc,\n",
        "        train_loss,\n",
        "        center_loss,\n",
        "        curr_lr))\n",
        "    \n",
        "    val_acc, val_loss = validate(model, val_loader, criterion)\n",
        "    scheduler.step(val_loss)\n",
        "    scheduler_center_loss.step(val_loss)\n",
        "\n",
        "    center_loss_hist.append(center_loss)\n",
        "    cross_entro_hist.append(train_loss)\n",
        "    valid_loss_hist.append(val_loss)\n",
        "\n",
        "    train_acc_hist.append(train_acc)\n",
        "    val_acc_hist.append(val_acc)\n",
        "\n",
        "    \n",
        "    print(\"Val Acc {:.04f}%\\t Val Loss {:.04f}\".format(val_acc, val_loss))\n",
        "    \n",
        "    # #Save model in drive location if val_acc is better than best recorded val_acc\n",
        "    if val_acc >= best_valacc:\n",
        "      print(\"Saving model\")\n",
        "      torch.save({'model_state_dict':model.state_dict(),\n",
        "                  'optimizer_state_dict':optimizer.state_dict(),\n",
        "                  #'scheduler_state_dict':scheduler.state_dict(),\n",
        "                  'val_acc': val_acc, \n",
        "                  'epoch': epoch}, './checkpoint.pth')\n",
        "      best_valacc = val_acc"
      ]
    },
    {
      "cell_type": "code",
      "execution_count": null,
      "metadata": {
        "colab": {
          "base_uri": "https://localhost:8080/"
        },
        "id": "ekNJkvM-tP_H",
        "outputId": "a5b31d07-2669-4cb4-f8f4-054e4049eae3"
      },
      "outputs": [
        {
          "name": "stdout",
          "output_type": "stream",
          "text": [
            "dict_keys(['model_state_dict', 'optimizer_state_dict', 'val_acc', 'epoch'])\n"
          ]
        },
        {
          "data": {
            "text/plain": [
              "<All keys matched successfully>"
            ]
          },
          "execution_count": 110,
          "metadata": {},
          "output_type": "execute_result"
        }
      ],
      "source": [
        "# Load the model with best accuracy\n",
        "best_state = torch.load(\"./checkpoint.pth\")\n",
        "print(best_state.keys())\n",
        "model.load_state_dict(best_state[\"model_state_dict\"])"
      ]
    },
    {
      "cell_type": "code",
      "source": [
        "img_files = []\n",
        "for f in sorted(os.listdir(\"/content\")):\n",
        "    if f[-3:] == \"png\": \n",
        "        img_files.append(Image.open(f))\n",
        "\n",
        "fig, ax = plt.subplots(2, 2, figsize=(14, 12))\n",
        "plt.subplots_adjust(wspace=0, hspace=0)\n",
        "for row in range(2):\n",
        "    for col in range(2):\n",
        "        ax[row, col].imshow(img_files[row+col])\n",
        "        ax[row, col].axis(\"off\")\n",
        "\n",
        "plt.show()"
      ],
      "metadata": {
        "id": "XvopX5KC-cxy",
        "colab": {
          "base_uri": "https://localhost:8080/",
          "height": 653
        },
        "outputId": "27b98474-426a-4ece-ee85-bbe85f8b64ce"
      },
      "execution_count": null,
      "outputs": [
        {
          "output_type": "display_data",
          "data": {
            "text/plain": [
              "<Figure size 1008x864 with 4 Axes>"
            ],
            "image/png": "[encoded data removed]"
          },
          "metadata": {
            "needs_background": "light"
          }
        }
      ]
    },
    {
      "cell_type": "markdown",
      "source": [
        "---"
      ],
      "metadata": {
        "id": "qbUtmWZ3vFg0"
      }
    },
    {
      "cell_type": "markdown",
      "source": [
        "# VI. Face Recognition and Verification Tasks"
      ],
      "metadata": {
        "id": "2r7JWX7GurqB"
      }
    },
    {
      "cell_type": "markdown",
      "metadata": {
        "id": "qkHWdECID1tN"
      },
      "source": [
        "### Face Recognition Task"
      ]
    },
    {
      "cell_type": "code",
      "execution_count": null,
      "metadata": {
        "id": "caOv2wxmfmH9"
      },
      "outputs": [],
      "source": [
        "def test(model,dataloader):\n",
        "\n",
        "  model.eval()\n",
        "  batch_bar = tqdm(total=len(dataloader), dynamic_ncols=True, position=0, leave=False, desc='Test')\n",
        "  test_results = []\n",
        "  \n",
        "  for i, (images) in enumerate(dataloader):\n",
        "\n",
        "      images = images.to(DEVICE)\n",
        "\n",
        "      with torch.inference_mode():\n",
        "        outputs = model(images)\n",
        "\n",
        "      outputs = torch.argmax(outputs, axis=1).detach().cpu().numpy().tolist()\n",
        "      test_results.extend(outputs)\n",
        "      \n",
        "      batch_bar.update()\n",
        "      \n",
        "  batch_bar.close()\n",
        "  return test_results"
      ]
    },
    {
      "cell_type": "code",
      "execution_count": null,
      "metadata": {
        "colab": {
          "base_uri": "https://localhost:8080/"
        },
        "id": "eAqrF-effpSo",
        "outputId": "35e04796-3c33-41d7-bfdf-38be70a5b9b3"
      },
      "outputs": [
        {
          "name": "stderr",
          "output_type": "stream",
          "text": []
        }
      ],
      "source": [
        "test_results = test(model, test_loader)"
      ]
    },
    {
      "cell_type": "markdown",
      "metadata": {
        "id": "A8HW5_6lf0c3"
      },
      "source": [
        "### Face Verification Task"
      ]
    },
    {
      "cell_type": "code",
      "execution_count": null,
      "metadata": {
        "id": "oDfRPw1fq36b"
      },
      "outputs": [],
      "source": [
        "# Fuction for normalizing the verification image\n",
        "def normalize_imgs(imgs):\n",
        "    to_tensor = torchvision.transforms.ToTensor()\n",
        "    output_imgs = []\n",
        "    for img in imgs:\n",
        "        img = to_tensor(img)\n",
        "        mean = img.mean((1, 2))\n",
        "        std = img.std((1, 2))\n",
        "        normalize = torchvision.transforms.Normalize(mean=[0.485, 0.456, 0.406], \n",
        "                                                     std=[0.229, 0.224, 0.225])\n",
        "        img_norm = normalize(img)\n",
        "        output_imgs.append(img_norm)\n",
        "    return torch.stack(output_imgs)\n"
      ]
    },
    {
      "cell_type": "code",
      "execution_count": null,
      "metadata": {
        "colab": {
          "base_uri": "https://localhost:8080/"
        },
        "id": "D_OOz5ryf2XN",
        "outputId": "c1a5f191-d5af-49ee-ecd9-442a8b93f75c"
      },
      "outputs": [
        {
          "name": "stderr",
          "output_type": "stream",
          "text": [
            "\n",
            "100%|██████████| 200/200 [00:00<00:00, 13748.21it/s]\n",
            "\n",
            "100%|██████████| 1000/1000 [00:00<00:00, 15374.79it/s]\n",
            "\n",
            "100%|██████████| 800/800 [00:00<00:00, 11499.00it/s]\n"
          ]
        }
      ],
      "source": [
        "known_regex = \"/content/data/verification/known/*/*\"\n",
        "unknown_regex = \"/content/data/verification/unknown_dev/*\" #Change the directory accordingly for the test set\n",
        "unknown_test = \"/content/data/verification/unknown_test/*\"\n",
        "\n",
        "known_paths = [i.split('/')[-2] for i in sorted(glob.glob(known_regex))] \n",
        "\n",
        "# We load the images from known and unknown folders\n",
        "unknown_images = [Image.open(p) for p in tqdm(sorted(glob.glob(unknown_regex)))]\n",
        "known_images = [Image.open(p) for p in tqdm(sorted(glob.glob(known_regex)))]\n",
        "unknown_test_images = [Image.open(p) for p in tqdm(sorted(glob.glob(unknown_test)))]\n",
        "\n",
        "unknown_imgs_norm = normalize_imgs(unknown_images)\n",
        "known_imgs_norm = normalize_imgs(known_images)\n",
        "unknown_test_norm = normalize_imgs(unknown_test_images)\n",
        "\n",
        "# You can use other similarity metrics like Euclidean Distance if you wish\n",
        "similarity_metric = torch.nn.CosineSimilarity(dim= 1, eps= 1e-6) "
      ]
    },
    {
      "cell_type": "code",
      "execution_count": null,
      "metadata": {
        "id": "YG71IKp9f8B3"
      },
      "outputs": [],
      "source": [
        "def eval_verification(unknown_images, known_images, model, similarity, batch_size= config['batch_size'], mode='val'): \n",
        "\n",
        "    unknown_feats, known_feats = [], []\n",
        "\n",
        "    batch_bar = tqdm(total=len(unknown_images)//batch_size, dynamic_ncols=True, position=0, leave=False, desc=mode)\n",
        "    model.eval()\n",
        "\n",
        "\n",
        "    for i in range(0, unknown_images.shape[0], batch_size):\n",
        "        unknown_batch = unknown_images[i:i+batch_size] \n",
        "        \n",
        "        with torch.no_grad():\n",
        "\n",
        "            unknown_feat, _ = model(unknown_batch.float().to(device), return_feats=True)   \n",
        "        unknown_feats.append(unknown_feat)\n",
        "        batch_bar.update()\n",
        "    \n",
        "    batch_bar.close()\n",
        "    \n",
        "    batch_bar = tqdm(total=len(known_images)//batch_size, dynamic_ncols=True, position=0, leave=False, desc=mode)\n",
        "    \n",
        "    for i in range(0, known_images.shape[0], batch_size):\n",
        "        known_batch = known_images[i:i+batch_size] \n",
        "        with torch.no_grad():\n",
        "\n",
        "              known_feat, _ = model(known_batch.float().to(device), return_feats=True)  \n",
        "          \n",
        "        known_feats.append(known_feat)\n",
        "        batch_bar.update()\n",
        "\n",
        "    batch_bar.close()\n",
        "\n",
        "    # Concatenate all the batches\n",
        "    unknown_feats = torch.cat(unknown_feats, dim=0)\n",
        "    known_feats = torch.cat(known_feats, dim=0)\n",
        "\n",
        "    similarity_values = torch.stack([similarity(unknown_feats, known_feature) for known_feature in known_feats])\n",
        "\n",
        "    predictions = similarity_values.argmax(0).cpu().numpy()\n",
        "\n",
        "    pred_id_strings = [known_paths[i] for i in predictions]\n",
        "    \n",
        "    if mode == 'val':\n",
        "      true_ids = pd.read_csv('/content/data/verification/dev_identities.csv')['label'].tolist()\n",
        "      accuracy = accuracy_score(pred_id_strings, true_ids)\n",
        "      print(\"Verification Accuracy = {}\".format(accuracy))\n",
        "    \n",
        "\n",
        "    return pred_id_strings"
      ]
    },
    {
      "cell_type": "code",
      "execution_count": null,
      "metadata": {
        "colab": {
          "base_uri": "https://localhost:8080/"
        },
        "id": "T6O5RW9sf_Nt",
        "outputId": "cf2d0104-0340-43a3-d4ac-8c208b3f9ebb"
      },
      "outputs": [
        {
          "name": "stderr",
          "output_type": "stream",
          "text": []
        },
        {
          "name": "stdout",
          "output_type": "stream",
          "text": [
            "Verification Accuracy = 0.715\n"
          ]
        }
      ],
      "source": [
        "pred_id_strings = eval_verification(unknown_imgs_norm, known_imgs_norm, model, similarity_metric, config['batch_size'], mode='val')"
      ]
    }
  ],
  "metadata": {
    "accelerator": "GPU",
    "colab": {
      "machine_shape": "hm",
      "provenance": [],
      "include_colab_link": true
    },
    "gpuClass": "standard",
    "kernelspec": {
      "display_name": "Python 3 (ipykernel)",
      "language": "python",
      "name": "python3"
    },
    "language_info": {
      "codemirror_mode": {
        "name": "ipython",
        "version": 3
      },
      "file_extension": ".py",
      "mimetype": "text/x-python",
      "name": "python",
      "nbconvert_exporter": "python",
      "pygments_lexer": "ipython3",
      "version": "3.9.15"
    }
  },
  "nbformat": 4,
  "nbformat_minor": 0
}