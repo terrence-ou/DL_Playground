{
  "cells": [
    {
      "cell_type": "markdown",
      "metadata": {
        "id": "view-in-github",
        "colab_type": "text"
      },
      "source": [
        "<a href=\"https://colab.research.google.com/github/terrence-ou/DL_Playground/blob/main/LAS_Speech_Recognition.ipynb\" target=\"_parent\"><img src=\"https://colab.research.google.com/assets/colab-badge.svg\" alt=\"Open In Colab\"/></a>"
      ]
    },
    {
      "cell_type": "markdown",
      "source": [
        "# Speech Regoconition with LAS(Listen, Attend, and Spell) model"
      ],
      "metadata": {
        "id": "UFG5MHeCn-_V"
      }
    },
    {
      "cell_type": "markdown",
      "metadata": {
        "id": "I8a_cZqr-UpV"
      },
      "source": [
        "Kaggle Dataset: https://www.kaggle.com/competitions/11-785-f22-hw4p2/ <br>\n",
        "<br>\n",
        "The model of this task is based on the paper: **Listen, Attend, and Spell** and **Attention is All You Need**, and regularization methods, like weight-tying and locked dropout, references the paper **Regularizing and Optimizing LSTM Language Models**.\n",
        "<br>\n",
        "LAS Paper: https://arxiv.org/pdf/1508.01211.pdf <br>\n",
        "Attention is all you need:https://arxiv.org/pdf/1706.03762.pdf <br>\n",
        "Regularizing and Optimizing LSTM Language Models: https://arxiv.org/pdf/1708.02182.pdf"
      ]
    },
    {
      "cell_type": "markdown",
      "source": [
        "<img src=\"https://drive.google.com/uc?id=1-ZRbdV9a6R2gCLnb2IBstXQxzz2AbmR5\" width=600>"
      ],
      "metadata": {
        "id": "x5MwrNCOcSFG"
      }
    },
    {
      "cell_type": "markdown",
      "metadata": {
        "id": "Vlev_Tvq_bRz"
      },
      "source": [
        "# I. Preliminaries"
      ]
    },
    {
      "cell_type": "markdown",
      "source": [
        "## Install and import libraries"
      ],
      "metadata": {
        "id": "VHKJDd82b6-s"
      }
    },
    {
      "cell_type": "code",
      "execution_count": 1,
      "metadata": {
        "id": "tepaid_TDwWt",
        "colab": {
          "base_uri": "https://localhost:8080/"
        },
        "outputId": "8830c73a-a854-474f-c250-4307eda59a7a"
      },
      "outputs": [
        {
          "output_type": "stream",
          "name": "stdout",
          "text": [
            "\u001b[2K     \u001b[90m━━━━━━━━━━━━━━━━━━━━━━━━━━━━━━━━━━━━━━━━\u001b[0m \u001b[32m1.9/1.9 MB\u001b[0m \u001b[31m29.7 MB/s\u001b[0m eta \u001b[36m0:00:00\u001b[0m\n",
            "\u001b[2K     \u001b[90m━━━━━━━━━━━━━━━━━━━━━━━━━━━━━━━━━━━━━━\u001b[0m \u001b[32m174.0/174.0 KB\u001b[0m \u001b[31m18.0 MB/s\u001b[0m eta \u001b[36m0:00:00\u001b[0m\n",
            "\u001b[2K     \u001b[90m━━━━━━━━━━━━━━━━━━━━━━━━━━━━━━━━━━━━━━━━\u001b[0m \u001b[32m2.2/2.2 MB\u001b[0m \u001b[31m57.5 MB/s\u001b[0m eta \u001b[36m0:00:00\u001b[0m\n",
            "\u001b[?25h  Preparing metadata (setup.py) ... \u001b[?25l\u001b[?25hdone\n",
            "\u001b[2K     \u001b[90m━━━━━━━━━━━━━━━━━━━━━━━━━━━━━━━━━━━━━━\u001b[0m \u001b[32m174.3/174.3 KB\u001b[0m \u001b[31m18.0 MB/s\u001b[0m eta \u001b[36m0:00:00\u001b[0m\n",
            "\u001b[2K     \u001b[90m━━━━━━━━━━━━━━━━━━━━━━━━━━━━━━━━━━━━━━\u001b[0m \u001b[32m184.0/184.0 KB\u001b[0m \u001b[31m19.4 MB/s\u001b[0m eta \u001b[36m0:00:00\u001b[0m\n",
            "\u001b[2K     \u001b[90m━━━━━━━━━━━━━━━━━━━━━━━━━━━━━━━━━━━━━━━━\u001b[0m \u001b[32m62.7/62.7 KB\u001b[0m \u001b[31m5.7 MB/s\u001b[0m eta \u001b[36m0:00:00\u001b[0m\n",
            "\u001b[2K     \u001b[90m━━━━━━━━━━━━━━━━━━━━━━━━━━━━━━━━━━━━━━\u001b[0m \u001b[32m140.6/140.6 KB\u001b[0m \u001b[31m12.4 MB/s\u001b[0m eta \u001b[36m0:00:00\u001b[0m\n",
            "\u001b[?25h  Building wheel for pathtools (setup.py) ... \u001b[?25l\u001b[?25hdone\n"
          ]
        }
      ],
      "source": [
        "!pip install -q python-levenshtein torchsummaryX wandb"
      ]
    },
    {
      "cell_type": "code",
      "execution_count": 2,
      "metadata": {
        "id": "ZectxKF3XEVV",
        "colab": {
          "base_uri": "https://localhost:8080/"
        },
        "outputId": "e4596fce-e6d5-4206-cd8a-e1cef3c26e75"
      },
      "outputs": [
        {
          "output_type": "stream",
          "name": "stdout",
          "text": [
            "Device:  cuda\n"
          ]
        }
      ],
      "source": [
        "import os\n",
        "import random\n",
        "import pandas as pd\n",
        "import numpy as np\n",
        "import Levenshtein # Measuring edit distances between strings\n",
        "\n",
        "import time\n",
        "import torch\n",
        "import torchaudio\n",
        "from torch import nn\n",
        "from torch.utils.data import Dataset, DataLoader\n",
        "from torch.nn.utils.rnn import pad_packed_sequence, pack_padded_sequence, pad_sequence\n",
        "import torchaudio.transforms as tat\n",
        "from torch.autograd import Variable\n",
        "\n",
        "import seaborn as sns\n",
        "import matplotlib.pyplot as plt\n",
        "\n",
        "from tqdm.notebook import tqdm\n",
        "import gc\n",
        "from torchsummaryX import summary\n",
        "import wandb\n",
        "from glob import glob\n",
        "\n",
        "DEVICE = torch.device(\"cuda\" if torch.cuda.is_available() else \"cpu\")\n",
        "print(\"Device: \", DEVICE)"
      ]
    },
    {
      "cell_type": "code",
      "source": [
        "from google.colab import drive\n",
        "drive.mount('/content/drive')"
      ],
      "metadata": {
        "colab": {
          "base_uri": "https://localhost:8080/"
        },
        "id": "WkEBocedWXX-",
        "outputId": "18828c27-3e7d-4f64-f0db-89806133ad43"
      },
      "execution_count": 3,
      "outputs": [
        {
          "output_type": "stream",
          "name": "stdout",
          "text": [
            "Mounted at /content/drive\n"
          ]
        }
      ]
    },
    {
      "cell_type": "code",
      "execution_count": 4,
      "metadata": {
        "id": "AqDuibMCP345"
      },
      "outputs": [],
      "source": [
        "# Train configurations\n",
        "config = {\n",
        "    'batch_size': 96,\n",
        "    'epochs': 100,\n",
        "    'lr': 1e-3,\n",
        "    'tf': 1.0\n",
        "}"
      ]
    },
    {
      "cell_type": "markdown",
      "source": [
        "---"
      ],
      "metadata": {
        "id": "sWwC3c3klzqT"
      }
    },
    {
      "cell_type": "markdown",
      "metadata": {
        "id": "YWRjucnUdbQ1"
      },
      "source": [
        "# II. Dataset and DataLoaders"
      ]
    },
    {
      "cell_type": "markdown",
      "source": [
        "## Downloading dataset"
      ],
      "metadata": {
        "id": "oTzMinLpd26E"
      }
    },
    {
      "cell_type": "code",
      "execution_count": 5,
      "metadata": {
        "id": "fStTuAQ6XAuD"
      },
      "outputs": [],
      "source": [
        "!mkdir /root/.kaggle/\n",
        "\n",
        "with open(\"/root/.kaggle/kaggle.json\", \"w+\") as f:\n",
        "    f.write('Kaggle API') # Put your kaggle username & key here\n",
        "\n",
        "!chmod 600 /root/.kaggle/kaggle.json"
      ]
    },
    {
      "cell_type": "code",
      "execution_count": 9,
      "metadata": {
        "id": "nR74ooCSa664",
        "colab": {
          "base_uri": "https://localhost:8080/"
        },
        "outputId": "b1a395ec-0450-4810-9464-efbcbf6a3e9e"
      },
      "outputs": [
        {
          "output_type": "stream",
          "name": "stdout",
          "text": [
            "mkdir: cannot create directory ‘las_data’: File exists\n"
          ]
        }
      ],
      "source": [
        "# # Download the data\n",
        "# !kaggle competitions download -c 11-785-f22-hw4p2\n",
        "!mkdir las_data\n",
        "!unzip -qo 11-785-f22-hw4p2.zip -d las_data"
      ]
    },
    {
      "cell_type": "code",
      "execution_count": 10,
      "metadata": {
        "id": "YHix8UvpBWh7",
        "colab": {
          "base_uri": "https://localhost:8080/"
        },
        "outputId": "6e0b0874-abc4-47ee-a0b5-bbba3a12d876"
      },
      "outputs": [
        {
          "output_type": "stream",
          "name": "stdout",
          "text": [
            "30\n"
          ]
        }
      ],
      "source": [
        "# letter tokenizer\n",
        "VOCAB = ['<sos>',   \n",
        "         'A',   'B',    'C',    'D',    \n",
        "         'E',   'F',    'G',    'H',    \n",
        "         'I',   'J',    'K',    'L',       \n",
        "         'M',   'N',    'O',    'P',    \n",
        "         'Q',   'R',    'S',    'T', \n",
        "         'U',   'V',    'W',    'X', \n",
        "         'Y',   'Z',    \"'\",    ' ', \n",
        "         '<eos>']\n",
        "\n",
        "VOCAB_MAP = {VOCAB[i]:i for i in range(0, len(VOCAB))}\n",
        "\n",
        "SOS_TOKEN = VOCAB_MAP[\"<sos>\"]\n",
        "EOS_TOKEN = VOCAB_MAP[\"<eos>\"]\n",
        "\n",
        "print(len(VOCAB))"
      ]
    },
    {
      "cell_type": "markdown",
      "metadata": {
        "id": "i5ioyn6ldQB9"
      },
      "source": [
        "# Dataset Class"
      ]
    },
    {
      "cell_type": "code",
      "execution_count": 11,
      "metadata": {
        "id": "8SndiVRVqBMa"
      },
      "outputs": [],
      "source": [
        "class AudioDataset(Dataset):\n",
        "\n",
        "    def __init__(self, path, VOCAB, partition=\"train\", transforms=None):\n",
        "        super(AudioDataset, self).__init__()\n",
        "        assert partition in [\"train\", \"valid\"]\n",
        "        self.transforms = transforms\n",
        "        self.partition = partition\n",
        "        mfcc_folder = None\n",
        "        transcript_folder = None\n",
        "        \n",
        "        if partition == \"train\":\n",
        "            mfcc_folder = \"/train-clean-100/mfcc\"\n",
        "            transcript_folder = \"/train-clean-100/transcript/raw\"\n",
        "        else:\n",
        "            mfcc_folder = \"/dev-clean/mfcc\"\n",
        "            transcript_folder = \"/dev-clean/transcript/raw\"\n",
        "        \n",
        "        self.mfcc_dir = path + mfcc_folder\n",
        "        self.trans_dir = path + transcript_folder\n",
        "        self.VOCAB = VOCAB\n",
        "        \n",
        "        # *_files containing all the files in the given directory\n",
        "        mfcc_files = sorted(os.listdir(self.mfcc_dir))\n",
        "        trans_files = sorted(os.listdir(self.trans_dir))\n",
        "        \n",
        "        self.length = len(mfcc_files)\n",
        "        \n",
        "        assert len(mfcc_files) == len(trans_files)\n",
        "        print(f\"The number of {partition} files: {self.length}\")\n",
        "        \n",
        "        self.mfcc = []\n",
        "        self.transcripts = []\n",
        "        \n",
        "        # Loading mfcc files and transcripts\n",
        "        for i in range(self.length):\n",
        "            mfcc = np.load(self.mfcc_dir + \"/\" + mfcc_files[i])\n",
        "            trans_raw = np.load(self.trans_dir + \"/\" + trans_files[i])\n",
        "            transcript = np.zeros_like(trans_raw, dtype=int)\n",
        "            \n",
        "            for j in range(len(transcript)):\n",
        "                transcript[j] = self.VOCAB.index(trans_raw[j])\n",
        "            \n",
        "            self.mfcc.append(mfcc)\n",
        "            self.transcripts.append(transcript)\n",
        "\n",
        "\n",
        "    def __len__(self):\n",
        "        return self.length\n",
        "    \n",
        "    \n",
        "    def __getitem__(self, idx):\n",
        "        \n",
        "        mfcc = torch.FloatTensor(self.mfcc[idx])\n",
        "        \n",
        "        # Normalize MFCC data\n",
        "        mean = mfcc.mean(axis=0).reshape(1, -1)\n",
        "        std = mfcc.std(axis=0).reshape(1, -1)\n",
        "        mfcc = (mfcc - mean) / std\n",
        "        \n",
        "        transcript = torch.LongTensor(self.transcripts[idx])\n",
        "        \n",
        "        return mfcc, transcript\n",
        "    \n",
        "    \n",
        "    def collate_fn(self, batch):\n",
        "        \n",
        "        batch_mfcc = [x[0] for x in batch]\n",
        "        batch_transcript = [x[1] for x in batch]\n",
        "        \n",
        "        # Pad batch\n",
        "        batch_mfcc_pad = pad_sequence(batch_mfcc, batch_first=True)\n",
        "        len_mfcc = [len(mfcc) for mfcc in batch_mfcc]\n",
        "        \n",
        "        # Pad transcript\n",
        "        batch_transcript_pad = pad_sequence(batch_transcript, batch_first=True)\n",
        "        len_trans = [len(trans) for trans in batch_transcript]\n",
        "        \n",
        "        # When the mask_prob is larger than 0.5, \n",
        "        # some portions of sequence will be masked\n",
        "        mask_prob = torch.rand(1)[0]\n",
        "        batch_mfcc_pad = batch_mfcc_pad.permute(0, 2, 1)\n",
        "        \n",
        "        if self.partition==\"train\" and mask_prob > 0.5:\n",
        "            for transform in self.transforms:\n",
        "                batch_mfcc_pad = transform(batch_mfcc_pad)\n",
        "                \n",
        "        batch_mfcc_pad = batch_mfcc_pad.permute(0, 2, 1)\n",
        "        \n",
        "        # return padded mfcc, transcript, unpadded mfcc lengths, unpadded transcript lengths\n",
        "        return (batch_mfcc_pad, batch_transcript_pad, \n",
        "                torch.tensor(len_mfcc), torch.tensor(len_trans))    "
      ]
    },
    {
      "cell_type": "code",
      "execution_count": 12,
      "metadata": {
        "id": "zannKblcPORG"
      },
      "outputs": [],
      "source": [
        "class AudioDatasetTest(Dataset):\n",
        "    \n",
        "    def __init__(self, path):\n",
        "        self.mfcc_dir = path + \"/test-clean/mfcc\"\n",
        "        mfcc_files = sorted(os.listdir(self.mfcc_dir))\n",
        "        self.length = len(mfcc_files)\n",
        "        self.mfcc = []\n",
        "        for i in range(self.length):\n",
        "            mfcc = np.load(self.mfcc_dir + \"/\" + mfcc_files[i])\n",
        "            self.mfcc.append(mfcc)\n",
        "    \n",
        "    def __len__(self):\n",
        "        return self.length\n",
        "    \n",
        "    def __getitem__(self, idx):\n",
        "        mfcc = torch.FloatTensor(self.mfcc[idx])\n",
        "        \n",
        "        # Normalize MFCC data\n",
        "        mean = mfcc.mean(axis=0).reshape(1, -1)\n",
        "        std = mfcc.std(axis=0).reshape(1, -1)\n",
        "        mfcc = (mfcc - mean) / std\n",
        "        return mfcc\n",
        "    \n",
        "    def collate_fn(self, batch):\n",
        "        batch_mfcc = [mfcc for mfcc in batch]\n",
        "        length_mfcc = [len(mfcc) for mfcc in batch_mfcc]\n",
        "        batch_mfcc_pad = pad_sequence(batch_mfcc, batch_first=True)\n",
        "        # For test dataset, we only return padded mfcc and unpadded mfcc lengths\n",
        "        return batch_mfcc_pad, torch.tensor(length_mfcc)"
      ]
    },
    {
      "cell_type": "code",
      "execution_count": 13,
      "metadata": {
        "id": "E-tYHeO-T3K8"
      },
      "outputs": [],
      "source": [
        "# MFCC maskings\n",
        "transforms = [\n",
        "    tat.FrequencyMasking(freq_mask_param=4, iid_masks=True),\n",
        "    tat.TimeMasking(time_mask_param=70, iid_masks=True) \n",
        "]"
      ]
    },
    {
      "cell_type": "markdown",
      "metadata": {
        "id": "gQenneVsDLnX"
      },
      "source": [
        "# Dataset and Dataloaders"
      ]
    },
    {
      "cell_type": "code",
      "execution_count": 14,
      "metadata": {
        "id": "oi2FS_hkDQZB",
        "colab": {
          "base_uri": "https://localhost:8080/"
        },
        "outputId": "e28db768-ff1a-494c-8f47-314ad06ced25"
      },
      "outputs": [
        {
          "output_type": "stream",
          "name": "stdout",
          "text": [
            "The number of train files: 28539\n",
            "The number of valid files: 2703\n",
            "Loading time: 0.3849 min\n",
            "Batch size:  96\n",
            "Train dataset samples = 28539, batches = 298\n",
            "Val dataset samples = 2703, batches = 29\n"
          ]
        }
      ],
      "source": [
        "start_time = time.time()\n",
        "file_path = \"las_data/hw4p2\"\n",
        "\n",
        "# It will take up to 30 min\n",
        "train_data = AudioDataset(file_path, VOCAB, partition=\"train\", transforms=transforms)\n",
        "val_data = AudioDataset(file_path, VOCAB, partition=\"valid\")\n",
        "\n",
        "end_time = time.time()\n",
        "print(f\"Loading time: {((end_time - start_time)/60):.4f} min\")\n",
        "\n",
        "BATCH_SIZE = config[\"batch_size\"]\n",
        "train_loader = DataLoader(train_data, batch_size=BATCH_SIZE, pin_memory=True,\n",
        "                          shuffle=True, collate_fn=train_data.collate_fn)\n",
        "valid_loader = DataLoader(val_data, batch_size=BATCH_SIZE, pin_memory=True,\n",
        "                          shuffle=False, collate_fn=val_data.collate_fn)\n",
        "\n",
        "print(\"Batch size: \", BATCH_SIZE)\n",
        "print(\"Train dataset samples = {}, batches = {}\".format(train_data.__len__(), len(train_loader)))\n",
        "print(\"Val dataset samples = {}, batches = {}\".format(val_data.__len__(), len(valid_loader)))"
      ]
    },
    {
      "cell_type": "markdown",
      "metadata": {
        "id": "9HDUYqj9T3K9"
      },
      "source": [
        "## Dataset visualization"
      ]
    },
    {
      "cell_type": "code",
      "execution_count": 15,
      "metadata": {
        "id": "-ntBqpW_T3K9",
        "colab": {
          "base_uri": "https://localhost:8080/"
        },
        "outputId": "d1b430aa-d71c-4d30-d582-876c9c7ad814"
      },
      "outputs": [
        {
          "output_type": "stream",
          "name": "stdout",
          "text": [
            "torch.Size([96, 1697, 15]) torch.Size([96, 307]) torch.Size([96]) torch.Size([96])\n"
          ]
        }
      ],
      "source": [
        "# sanity check: data shape checking\n",
        "example_batch = None\n",
        "for data in train_loader:\n",
        "    x, y, lx, ly = data\n",
        "    example_batch = data\n",
        "    print(x.shape, y.shape, lx.shape, ly.shape)\n",
        "    break "
      ]
    },
    {
      "cell_type": "code",
      "execution_count": 16,
      "metadata": {
        "id": "_8uzmi8MT3K9",
        "colab": {
          "base_uri": "https://localhost:8080/",
          "height": 152
        },
        "outputId": "ae5adc0e-1abe-4ae4-80d7-11869f6ba525"
      },
      "outputs": [
        {
          "output_type": "display_data",
          "data": {
            "text/plain": [
              "<Figure size 864x432 with 1 Axes>"
            ],
            "image/png": "[encoded data removed]"
          },
          "metadata": {
            "needs_background": "light"
          }
        },
        {
          "output_type": "stream",
          "name": "stdout",
          "text": [
            "Transcript: \n",
            " an antinous of faultless beauty a grecian statue as it were into which the breath of life had been breathed by some modern pygmalion such a pomp of gifts and endowments settling upon one man's head\n"
          ]
        }
      ],
      "source": [
        "# Convert indicies to characters\n",
        "def indices_to_chars(indices, vocab):\n",
        "    tokens = []\n",
        "    for i in indices: # This loops through all the indices\n",
        "        if int(i) == SOS_TOKEN: # If SOS is encountered, don't add it to the final list\n",
        "            continue\n",
        "        elif int(i) == EOS_TOKEN: # If EOS is encountered, stop the decoding process\n",
        "            break\n",
        "        else:\n",
        "            tokens.append(vocab[i])\n",
        "    return tokens\n",
        "\n",
        "# Getting a sample data\n",
        "check_data = train_data[random.randint(0, len(train_data)-1)]\n",
        "\n",
        "fig, ax = plt.subplots(1, figsize=(12, 6))\n",
        "ax.imshow(check_data[0][:150].T, interpolation='nearest', cmap=\"coolwarm\")\n",
        "plt.show()\n",
        "vocabs = indices_to_chars(check_data[1], VOCAB)\n",
        "print(\"Transcript: \\n\", \"\".join(vocabs).lower())"
      ]
    },
    {
      "cell_type": "code",
      "execution_count": 17,
      "metadata": {
        "id": "d_Mh9vRUT3K-",
        "colab": {
          "base_uri": "https://localhost:8080/",
          "height": 474
        },
        "outputId": "52c163d8-e51c-498e-a370-adb0693c284a"
      },
      "outputs": [
        {
          "output_type": "stream",
          "name": "stdout",
          "text": [
            "torch.Size([1707, 15])\n"
          ]
        },
        {
          "output_type": "display_data",
          "data": {
            "text/plain": [
              "<Figure size 864x432 with 1 Axes>"
            ],
            "image/png": "[encoded data removed]"
          },
          "metadata": {
            "needs_background": "light"
          }
        },
        {
          "output_type": "stream",
          "name": "stdout",
          "text": [
            "torch.Size([1651, 15])\n"
          ]
        },
        {
          "output_type": "display_data",
          "data": {
            "text/plain": [
              "<Figure size 864x432 with 1 Axes>"
            ],
            "image/png": "[encoded data removed]"
          },
          "metadata": {
            "needs_background": "light"
          }
        },
        {
          "output_type": "stream",
          "name": "stdout",
          "text": [
            "torch.Size([1671, 15])\n"
          ]
        },
        {
          "output_type": "display_data",
          "data": {
            "text/plain": [
              "<Figure size 864x432 with 1 Axes>"
            ],
            "image/png": "[encoded data removed]"
          },
          "metadata": {
            "needs_background": "light"
          }
        },
        {
          "output_type": "stream",
          "name": "stdout",
          "text": [
            "torch.Size([1672, 15])\n"
          ]
        },
        {
          "output_type": "display_data",
          "data": {
            "text/plain": [
              "<Figure size 864x432 with 1 Axes>"
            ],
            "image/png": "[encoded data removed]"
          },
          "metadata": {
            "needs_background": "light"
          }
        },
        {
          "output_type": "stream",
          "name": "stdout",
          "text": [
            "torch.Size([1671, 15])\n"
          ]
        },
        {
          "output_type": "display_data",
          "data": {
            "text/plain": [
              "<Figure size 864x432 with 1 Axes>"
            ],
            "image/png": "[encoded data removed]"
          },
          "metadata": {
            "needs_background": "light"
          }
        }
      ],
      "source": [
        "# Sanity check for dataloader, not some parts are masked\n",
        "for i, data in enumerate(train_loader):\n",
        "    check_data = data[0][random.randint(0, data[0].shape[0]-1)]\n",
        "    print(check_data.shape)\n",
        "    fig, ax = plt.subplots(1, figsize=(12, 6))\n",
        "    ax.imshow(check_data[:250].T, cmap='coolwarm')\n",
        "    plt.show()\n",
        "    if i == 4:\n",
        "        break"
      ]
    },
    {
      "cell_type": "markdown",
      "source": [
        "---"
      ],
      "metadata": {
        "id": "H7k-IX9slxK7"
      }
    },
    {
      "cell_type": "markdown",
      "metadata": {
        "id": "I--VjKlEhwi8"
      },
      "source": [
        "# III. LAS Model"
      ]
    },
    {
      "cell_type": "markdown",
      "metadata": {
        "id": "uql9E6cqROvJ"
      },
      "source": [
        "The LAS Model consists following parts.<br>\n",
        "- Pyramidal Bi-LSTM \n",
        "- Listener (Encoder)\n",
        "- Attention (K, Q, from encoder, V from decoder)\n",
        "- Speller (Decoder)\n",
        "\n",
        "<img src=\"https://drive.google.com/uc?id=1-ZRbdV9a6R2gCLnb2IBstXQxzz2AbmR5\" width=500>\n"
      ]
    },
    {
      "cell_type": "markdown",
      "metadata": {
        "id": "BAuwL9_AT3K_"
      },
      "source": [
        "### Locked Dropout"
      ]
    },
    {
      "cell_type": "code",
      "execution_count": 18,
      "metadata": {
        "id": "8wSE91u-T3K_",
        "colab": {
          "base_uri": "https://localhost:8080/",
          "height": 216
        },
        "outputId": "7c317be4-573d-4635-8eb2-194f1bb89f77"
      },
      "outputs": [
        {
          "output_type": "display_data",
          "data": {
            "text/plain": [
              "<Figure size 432x288 with 2 Axes>"
            ],
            "image/png": "[encoded data removed]"
          },
          "metadata": {
            "needs_background": "light"
          }
        }
      ],
      "source": [
        "# Test locked dropout\n",
        "dropout = 0.5\n",
        "L, H = 4, 4\n",
        "\n",
        "# Creat data\n",
        "x = torch.rand((2, H, L))\n",
        "\n",
        "# A binary, single-channel mask\n",
        "x_val = torch.zeros(1, H, L).bernoulli_(1 - 0.3)\n",
        "\n",
        "# Increase the weight of unmasked values\n",
        "mask = Variable(x_val.div(1 - 0.3), requires_grad=False)\n",
        "mask = mask.expand_as(x)\n",
        "\n",
        "output = x * mask\n",
        "\n",
        "# Visualizing Locked Dropout\n",
        "fig, ax = plt.subplots(1, 2)\n",
        "ax[0].imshow(x_val.squeeze(), cmap=\"gray\")\n",
        "ax[0].set_title(\"mask\")\n",
        "ax[1].imshow(output[0], cmap=\"gray\")\n",
        "ax[1].set_title(\"masked values\")\n",
        "plt.show()"
      ]
    },
    {
      "cell_type": "code",
      "execution_count": 19,
      "metadata": {
        "id": "Rgiht0ZPT3K_"
      },
      "outputs": [],
      "source": [
        "class LockedDropout(nn.Module):\n",
        "    def __init__(self):\n",
        "        super(LockedDropout, self).__init__()\n",
        "\n",
        "    def forward(self, x, dropout=0.35):\n",
        "        if not self.training:\n",
        "            return x\n",
        "        L, H = x.shape[1], x.shape[2]\n",
        "        m_val = x.data.new(1, L, H).bernoulli_(1 - dropout)\n",
        "        mask = Variable(m_val.div_(1 - dropout), requires_grad=False)\n",
        "        mask = mask.expand_as(x)\n",
        "        return mask * x"
      ]
    },
    {
      "cell_type": "markdown",
      "metadata": {
        "id": "lCbwz0LZMWwe"
      },
      "source": [
        "## Listener (Encoder)"
      ]
    },
    {
      "cell_type": "markdown",
      "source": [
        "<img src=\"https://drive.google.com/uc?id=1-SuzKiSsf4hNrfs39nRzv5suCRjiK8Bo\" width=600>"
      ],
      "metadata": {
        "id": "UbhM44dAiE5l"
      }
    },
    {
      "cell_type": "markdown",
      "metadata": {
        "id": "XoI0zEoIMX5I"
      },
      "source": [
        "### Pyramidal Bi-LSTM"
      ]
    },
    {
      "cell_type": "code",
      "execution_count": 21,
      "metadata": {
        "id": "-F9zAQR95P55"
      },
      "outputs": [],
      "source": [
        "class pBLSTM(nn.Module):\n",
        "    def __init__(self, input_size, hidden_size):\n",
        "        super(pBLSTM, self).__init__()\n",
        "        self.blstm = nn.LSTM(input_size*2, hidden_size, num_layers=1, bidirectional=True, batch_first=True)\n",
        "        self.locked_dropout = LockedDropout()\n",
        "\n",
        "    # Half sequence length in every pBLSTM layer\n",
        "    # but double the number of elements in each sequence\n",
        "    def trunc_reshape(self, x, x_lens):\n",
        "        B, T, C = x.shape\n",
        "        if T % 2 != 0: x = x[:, :-1, :] # If length is odd number, drop the last one\n",
        "        newL = torch.div(T, 2, rounding_mode=\"floor\").int()\n",
        "        x_lens = torch.div(x_lens, 2, rounding_mode=\"floor\").int()\n",
        "        x = x.reshape(B, newL, C*2)\n",
        "        return x, x_lens\n",
        "    \n",
        "    def forward(self, x_packed):\n",
        "        x_padded, len_padded = pad_packed_sequence(x_packed, batch_first=True)\n",
        "        x_down, len_down = self.trunc_reshape(x_padded, len_padded)\n",
        "        x_down = self.locked_dropout(x_down)\n",
        "        x_packed = pack_padded_sequence(x_down, len_down, batch_first=True, enforce_sorted=False)\n",
        "        x_blstm, hid_params = self.blstm(x_packed)\n",
        "        \n",
        "        return x_blstm"
      ]
    },
    {
      "cell_type": "markdown",
      "metadata": {
        "id": "_rchbyjlMeB2"
      },
      "source": [
        "### Listener"
      ]
    },
    {
      "cell_type": "code",
      "execution_count": 22,
      "metadata": {
        "id": "912b3sVoHr1e"
      },
      "outputs": [],
      "source": [
        "class Listener(nn.Module):\n",
        "    \n",
        "    def __init__(self, input_size, encoder_hidden_size):\n",
        "        super(Listener, self).__init__()\n",
        "        # Base LSTM\n",
        "        self.base_lstm = nn.LSTM(input_size, encoder_hidden_size, num_layers=1, batch_first=True, bidirectional=True)\n",
        "        \n",
        "        # Three layers of pBLSTM layers\n",
        "        self.pBLSTMs = nn.Sequential(pBLSTM(encoder_hidden_size*2, encoder_hidden_size),\n",
        "                                   pBLSTM(encoder_hidden_size*2, encoder_hidden_size),\n",
        "                                   pBLSTM(encoder_hidden_size*2, encoder_hidden_size))\n",
        "\n",
        "    def forward(self, x, x_lens):\n",
        "        \n",
        "        x_packed = pack_padded_sequence(x, x_lens, batch_first=True, enforce_sorted=False)\n",
        "        x_lstm, hid_params = self.base_lstm(x_packed)\n",
        "        x_output = self.pBLSTMs(x_lstm)\n",
        "        \n",
        "        encoder_outputs, encoder_lens = pad_packed_sequence(x_output, batch_first=True)\n",
        "        \n",
        "        return encoder_outputs, encoder_lens"
      ]
    },
    {
      "cell_type": "code",
      "execution_count": 23,
      "metadata": {
        "id": "0EgRqsKDI7dD",
        "colab": {
          "base_uri": "https://localhost:8080/"
        },
        "outputId": "9136f578-63b3-423d-ef98-e4d2f262d871"
      },
      "outputs": [
        {
          "output_type": "stream",
          "name": "stdout",
          "text": [
            "============================================================================================\n",
            "                                         Kernel Shape     Output Shape  \\\n",
            "Layer                                                                    \n",
            "0_base_lstm                                         -     [18712, 512]   \n",
            "1_pBLSTMs.0.LockedDropout_locked_dropout            -  [96, 153, 1024]   \n",
            "2_pBLSTMs.0.LSTM_blstm                              -      [9331, 512]   \n",
            "3_pBLSTMs.1.LockedDropout_locked_dropout            -   [96, 76, 1024]   \n",
            "4_pBLSTMs.1.LSTM_blstm                              -      [4644, 512]   \n",
            "5_pBLSTMs.2.LockedDropout_locked_dropout            -   [96, 38, 1024]   \n",
            "6_pBLSTMs.2.LSTM_blstm                              -      [2297, 512]   \n",
            "\n",
            "                                             Params Mult-Adds  \n",
            "Layer                                                          \n",
            "0_base_lstm                                559.104k  555.008k  \n",
            "1_pBLSTMs.0.LockedDropout_locked_dropout          -         -  \n",
            "2_pBLSTMs.0.LSTM_blstm                    2.625536M  2.62144M  \n",
            "3_pBLSTMs.1.LockedDropout_locked_dropout          -         -  \n",
            "4_pBLSTMs.1.LSTM_blstm                    2.625536M  2.62144M  \n",
            "5_pBLSTMs.2.LockedDropout_locked_dropout          -         -  \n",
            "6_pBLSTMs.2.LSTM_blstm                    2.625536M  2.62144M  \n",
            "--------------------------------------------------------------------------------------------\n",
            "                         Totals\n",
            "Total params          8.435712M\n",
            "Trainable params      8.435712M\n",
            "Non-trainable params        0.0\n",
            "Mult-Adds             8.419328M\n",
            "============================================================================================\n"
          ]
        },
        {
          "output_type": "stream",
          "name": "stderr",
          "text": [
            "/usr/local/lib/python3.8/dist-packages/torchsummaryX/torchsummaryX.py:101: FutureWarning: Dropping of nuisance columns in DataFrame reductions (with 'numeric_only=None') is deprecated; in a future version this will raise TypeError.  Select only valid columns before calling the reduction.\n",
            "  df_sum = df.sum()\n"
          ]
        }
      ],
      "source": [
        "encoder = Listener(15, 256).to(DEVICE)\n",
        "summary(encoder, example_batch[0].to(DEVICE), example_batch[3])\n",
        "del encoder"
      ]
    },
    {
      "cell_type": "markdown",
      "metadata": {
        "id": "JJCpBcEmMVcZ"
      },
      "source": [
        "## Attention"
      ]
    },
    {
      "cell_type": "code",
      "execution_count": 24,
      "metadata": {
        "id": "pqu-MUM8TjUO"
      },
      "outputs": [],
      "source": [
        "class Attention(nn.Module):\n",
        "    \n",
        "    def __init__(self, encoder_hidden_size, decoder_output_size, projection_size, dropout=0.15):\n",
        "        super(Attention, self).__init__()\n",
        "        self.softmax = nn.Softmax(dim=-1)\n",
        "        \n",
        "        self.key_projection = nn.Linear(encoder_hidden_size*2, projection_size)\n",
        "        self.value_projection = nn.Linear(encoder_hidden_size*2, projection_size)\n",
        "        self.query_projection = nn.Linear(decoder_output_size, projection_size)\n",
        "\n",
        "        self.dropout = nn.Dropout(dropout)\n",
        "        \n",
        "        \n",
        "    # Setting key and value once in initialization\n",
        "    def set_key_value_mask(self, encoder_outputs, encoder_lens):\n",
        "        _, encoder_max_seq_len, _ = encoder_outputs.shape\n",
        "        \n",
        "        self.key = self.key_projection(encoder_outputs)\n",
        "        self.value = self.value_projection(encoder_outputs)\n",
        "        \n",
        "        self.padding_mask = torch.arange(encoder_max_seq_len).unsqueeze(0) >= encoder_lens.unsqueeze(1)\n",
        "        self.padding_mask = self.padding_mask.to(DEVICE)\n",
        "    \n",
        "\n",
        "    def forward(self, decoder_output_embedding, encoder_lens):\n",
        "        \n",
        "        self.query = self.query_projection(decoder_output_embedding)\n",
        "        raw_weights = torch.bmm(self.key, self.query.unsqueeze(2)).squeeze(2)\n",
        "        raw_weights /= np.sqrt(self.query.shape[1])\n",
        "\n",
        "        raw_weights.masked_fill_(self.padding_mask, -torch.inf)\n",
        "        attention = self.softmax(raw_weights)\n",
        "        attention = self.dropout(attention)\n",
        "        \n",
        "        context = torch.bmm(attention.unsqueeze(1), self.value).squeeze(1)\n",
        "        return context, attention"
      ]
    },
    {
      "cell_type": "code",
      "execution_count": 25,
      "metadata": {
        "id": "wOP5VsIcT3LC"
      },
      "outputs": [],
      "source": [
        "def plot_attention(attention): \n",
        "    plt.clf()\n",
        "    sns.heatmap(attention, cmap='GnBu')\n",
        "    plt.show()"
      ]
    },
    {
      "cell_type": "markdown",
      "metadata": {
        "id": "78XOdWExMSi-"
      },
      "source": [
        "## Speller (Decoder)"
      ]
    },
    {
      "cell_type": "markdown",
      "source": [
        "<img src=\"https://drive.google.com/uc?id=1-UWA0imz6qTS8lMSnXZKaZbNh-wSWiot\" width=600>"
      ],
      "metadata": {
        "id": "2wiMJcsrjflc"
      }
    },
    {
      "cell_type": "code",
      "execution_count": 26,
      "metadata": {
        "id": "y7-R6BTuT8dm"
      },
      "outputs": [],
      "source": [
        "class Speller(nn.Module):\n",
        "    def __init__(self, vocab_size, embed_size, decoder_hidden_size, decoder_output_size, attention_module=None):\n",
        "        super(Speller, self).__init__()\n",
        "        \n",
        "        self.hidden_size = decoder_hidden_size\n",
        "        self.vocab_size = vocab_size\n",
        "        self.output_size = decoder_output_size\n",
        "        \n",
        "        self.attention = attention_module\n",
        "        \n",
        "        self.embedding = nn.Embedding(vocab_size, embed_size, padding_idx=EOS_TOKEN)\n",
        "\n",
        "        # LSTM Cells\n",
        "        self.lstm_cells = nn.Sequential(\n",
        "                                        nn.LSTMCell(input_size=embed_size+decoder_output_size, hidden_size=decoder_hidden_size),\n",
        "                                        nn.LSTMCell(input_size=decoder_hidden_size, hidden_size=decoder_hidden_size),\n",
        "                                        nn.LSTMCell(input_size=decoder_hidden_size, hidden_size=decoder_output_size)\n",
        "                                        )\n",
        "        \n",
        "        self.char_prob = nn.Linear(decoder_output_size*2, vocab_size)\n",
        "        self.char_prob.weight = self.embedding.weight\n",
        "        self.training = True\n",
        "\n",
        "\n",
        "    def forward(self, encoder_outputs, encoder_lens, y=None, tf_rate=0.1):\n",
        "        \n",
        "        batch_size, encoder_max_seq_len, _ = encoder_outputs.shape\n",
        "        self.attention.set_key_value_mask(encoder_outputs, encoder_lens)\n",
        "        \n",
        "        # If training, the output length equals to the ground truth length\n",
        "        if (self.training):\n",
        "            timesteps = y.shape[1]\n",
        "            # Embeding of the ground truth\n",
        "            label_embed = self.embedding(y)\n",
        "        # Else, set the predicted length as 600\n",
        "        else:\n",
        "            timesteps = 600\n",
        "        \n",
        "        predictions = []\n",
        "        attention_plot = []\n",
        "        hidden_states = [None] * len(self.lstm_cells)\n",
        "        context = self.attention.value[:, 0, :]\n",
        "        char = torch.full((batch_size,), fill_value=SOS_TOKEN, dtype=torch.long).to(DEVICE) \n",
        "        attention_weights = torch.zeros(batch_size, encoder_max_seq_len)\n",
        "        \n",
        "        # Loop over the sequence\n",
        "        for t in range(timesteps):\n",
        "            # Initialize embedding when at the start of the sequence\n",
        "            if t == 0:\n",
        "                char_embed = self.embedding(char)\n",
        "\n",
        "            if self.training and t > 0:\n",
        "                teacher_force = True if random.random() < tf_rate else False\n",
        "                # If not teacher forcing, use the output from previous sequence\n",
        "                if not teacher_force:\n",
        "                    char_embed = self.embedding(char.argmax(dim=-1))\n",
        "                # Else, using the previous true label\n",
        "                else:\n",
        "                    char_embed = label_embed[:, t-1, :]\n",
        "            \n",
        "            # If not training, only use the output from previous sequence\n",
        "            if not self.training and t > 0:\n",
        "                char_embed = self.embedding(char.argmax(dim=-1))\n",
        "\n",
        "            decoder_input_embedding = torch.cat([char_embed, context], dim=1)\n",
        "\n",
        "            # Looping over LSTM_Cell layers\n",
        "            for i in range(len(self.lstm_cells)):\n",
        "                hidden_states[i] = self.lstm_cells[i](decoder_input_embedding, hidden_states[i])\n",
        "                decoder_input_embedding = hidden_states[i][0]\n",
        "            \n",
        "            decoder_output_embedding = hidden_states[-1][0]\n",
        "            \n",
        "            if self.attention != None:\n",
        "                context, attention_weights = self.attention(decoder_output_embedding, encoder_lens)\n",
        "            else:\n",
        "                context = self.value[:, t, :] if i < self.attention.value.shape(1) else torch.zeros(batch_size, self.output_size).to(DEVICE)\n",
        "            \n",
        "            attention_plot.append(attention_weights[0].detach().cpu())\n",
        "            output_embedding = torch.cat([decoder_output_embedding, context], dim=1)\n",
        "            \n",
        "            char_prob = self.char_prob(output_embedding)\n",
        "            predictions.append(char_prob.unsqueeze(1))\n",
        "            char = char_prob\n",
        "        \n",
        "        attention_plot = torch.stack(attention_plot, dim=1)\n",
        "        predictions = torch.cat(predictions, dim=1)\n",
        "        \n",
        "        return predictions, attention_plot"
      ]
    },
    {
      "cell_type": "markdown",
      "metadata": {
        "id": "LWWzurvXM0iv"
      },
      "source": [
        "## Full LAS Model"
      ]
    },
    {
      "cell_type": "code",
      "execution_count": 28,
      "metadata": {
        "id": "zcTC4cK95TYT"
      },
      "outputs": [],
      "source": [
        "class LAS(torch.nn.Module):\n",
        "    \n",
        "    def __init__(self, input_size, encoder_hidden_size, \n",
        "                 vocab_size, embed_size,\n",
        "                 decoder_hidden_size, decoder_output_size,\n",
        "                 projection_size= 128):\n",
        "        \n",
        "        super(LAS, self).__init__()\n",
        "\n",
        "        self.encoder        = Listener(input_size, encoder_hidden_size)\n",
        "        attention_module    = Attention(encoder_hidden_size, decoder_output_size, projection_size)\n",
        "        self.decoder        = Speller(vocab_size, embed_size, decoder_hidden_size, decoder_output_size, attention_module)\n",
        "\n",
        "\n",
        "    def forward(self, x, x_lens, y = None, tf_rate = 1):\n",
        "        encoder_outputs, encoder_lens = self.encoder(x, x_lens)\n",
        "        predictions, attention_plot = self.decoder(encoder_outputs, encoder_lens, y, tf_rate)\n",
        "        \n",
        "        return predictions, attention_plot"
      ]
    },
    {
      "cell_type": "code",
      "execution_count": 29,
      "metadata": {
        "id": "IS-YUHQlYQmL",
        "colab": {
          "base_uri": "https://localhost:8080/",
          "height": 1000
        },
        "outputId": "79d46cd5-dff7-47ae-e2ba-e4e3ec0a33e8"
      },
      "outputs": [
        {
          "output_type": "stream",
          "name": "stderr",
          "text": [
            "/usr/local/lib/python3.8/dist-packages/torchsummaryX/torchsummaryX.py:101: FutureWarning: Dropping of nuisance columns in DataFrame reductions (with 'numeric_only=None') is deprecated; in a future version this will raise TypeError.  Select only valid columns before calling the reduction.\n",
            "  df_sum = df.sum()\n"
          ]
        },
        {
          "output_type": "stream",
          "name": "stdout",
          "text": [
            "======================================================================================================\n",
            "                                                 Kernel Shape  \\\n",
            "Layer                                                           \n",
            "0_encoder.LSTM_base_lstm                                    -   \n",
            "1_encoder.pBLSTMs.0.LockedDropout_locked_dropout            -   \n",
            "2_encoder.pBLSTMs.0.LSTM_blstm                              -   \n",
            "3_encoder.pBLSTMs.1.LockedDropout_locked_dropout            -   \n",
            "4_encoder.pBLSTMs.1.LSTM_blstm                              -   \n",
            "...                                                       ...   \n",
            "2155_decoder.lstm_cells.LSTMCell_2                          -   \n",
            "2156_decoder.attention.Linear_query_projection     [128, 128]   \n",
            "2157_decoder.attention.Softmax_softmax                      -   \n",
            "2158_decoder.attention.Dropout_dropout                      -   \n",
            "2159_decoder.Linear_char_prob                       [256, 30]   \n",
            "\n",
            "                                                     Output Shape      Params  \\\n",
            "Layer                                                                           \n",
            "0_encoder.LSTM_base_lstm                            [18712, 1024]   2.166784M   \n",
            "1_encoder.pBLSTMs.0.LockedDropout_locked_dropout  [96, 153, 2048]           -   \n",
            "2_encoder.pBLSTMs.0.LSTM_blstm                       [9331, 1024]  10.493952M   \n",
            "3_encoder.pBLSTMs.1.LockedDropout_locked_dropout   [96, 76, 2048]           -   \n",
            "4_encoder.pBLSTMs.1.LSTM_blstm                       [4644, 1024]  10.493952M   \n",
            "...                                                           ...         ...   \n",
            "2155_decoder.lstm_cells.LSTMCell_2                      [96, 128]           -   \n",
            "2156_decoder.attention.Linear_query_projection          [96, 128]           -   \n",
            "2157_decoder.attention.Softmax_softmax                   [96, 38]           -   \n",
            "2158_decoder.attention.Dropout_dropout                   [96, 38]           -   \n",
            "2159_decoder.Linear_char_prob                            [96, 30]           -   \n",
            "\n",
            "                                                  Mult-Adds  \n",
            "Layer                                                        \n",
            "0_encoder.LSTM_base_lstm                          2.158592M  \n",
            "1_encoder.pBLSTMs.0.LockedDropout_locked_dropout          -  \n",
            "2_encoder.pBLSTMs.0.LSTM_blstm                    10.48576M  \n",
            "3_encoder.pBLSTMs.1.LockedDropout_locked_dropout          -  \n",
            "4_encoder.pBLSTMs.1.LSTM_blstm                    10.48576M  \n",
            "...                                                     ...  \n",
            "2155_decoder.lstm_cells.LSTMCell_2                 589.824k  \n",
            "2156_decoder.attention.Linear_query_projection      16.384k  \n",
            "2157_decoder.attention.Softmax_softmax                    -  \n",
            "2158_decoder.attention.Dropout_dropout                    -  \n",
            "2159_decoder.Linear_char_prob                         7.68k  \n",
            "\n",
            "[2160 rows x 4 columns]\n",
            "------------------------------------------------------------------------------------------------------\n",
            "                            Totals\n",
            "Total params             48.70595M\n",
            "Trainable params         48.70595M\n",
            "Non-trainable params           0.0\n",
            "Mult-Adds             4.568180224G\n",
            "======================================================================================================\n"
          ]
        },
        {
          "output_type": "execute_result",
          "data": {
            "text/plain": [
              "                                                 Kernel Shape  \\\n",
              "Layer                                                           \n",
              "0_encoder.LSTM_base_lstm                                    -   \n",
              "1_encoder.pBLSTMs.0.LockedDropout_locked_dropout            -   \n",
              "2_encoder.pBLSTMs.0.LSTM_blstm                              -   \n",
              "3_encoder.pBLSTMs.1.LockedDropout_locked_dropout            -   \n",
              "4_encoder.pBLSTMs.1.LSTM_blstm                              -   \n",
              "...                                                       ...   \n",
              "2155_decoder.lstm_cells.LSTMCell_2                          -   \n",
              "2156_decoder.attention.Linear_query_projection     [128, 128]   \n",
              "2157_decoder.attention.Softmax_softmax                      -   \n",
              "2158_decoder.attention.Dropout_dropout                      -   \n",
              "2159_decoder.Linear_char_prob                       [256, 30]   \n",
              "\n",
              "                                                     Output Shape      Params  \\\n",
              "Layer                                                                           \n",
              "0_encoder.LSTM_base_lstm                            [18712, 1024]   2166784.0   \n",
              "1_encoder.pBLSTMs.0.LockedDropout_locked_dropout  [96, 153, 2048]         NaN   \n",
              "2_encoder.pBLSTMs.0.LSTM_blstm                       [9331, 1024]  10493952.0   \n",
              "3_encoder.pBLSTMs.1.LockedDropout_locked_dropout   [96, 76, 2048]         NaN   \n",
              "4_encoder.pBLSTMs.1.LSTM_blstm                       [4644, 1024]  10493952.0   \n",
              "...                                                           ...         ...   \n",
              "2155_decoder.lstm_cells.LSTMCell_2                      [96, 128]         NaN   \n",
              "2156_decoder.attention.Linear_query_projection          [96, 128]         NaN   \n",
              "2157_decoder.attention.Softmax_softmax                   [96, 38]         NaN   \n",
              "2158_decoder.attention.Dropout_dropout                   [96, 38]         NaN   \n",
              "2159_decoder.Linear_char_prob                            [96, 30]         NaN   \n",
              "\n",
              "                                                   Mult-Adds  \n",
              "Layer                                                         \n",
              "0_encoder.LSTM_base_lstm                           2158592.0  \n",
              "1_encoder.pBLSTMs.0.LockedDropout_locked_dropout         NaN  \n",
              "2_encoder.pBLSTMs.0.LSTM_blstm                    10485760.0  \n",
              "3_encoder.pBLSTMs.1.LockedDropout_locked_dropout         NaN  \n",
              "4_encoder.pBLSTMs.1.LSTM_blstm                    10485760.0  \n",
              "...                                                      ...  \n",
              "2155_decoder.lstm_cells.LSTMCell_2                  589824.0  \n",
              "2156_decoder.attention.Linear_query_projection       16384.0  \n",
              "2157_decoder.attention.Softmax_softmax                   NaN  \n",
              "2158_decoder.attention.Dropout_dropout                   NaN  \n",
              "2159_decoder.Linear_char_prob                         7680.0  \n",
              "\n",
              "[2160 rows x 4 columns]"
            ],
            "text/html": [
              "\n",
              "  <div id=\"df-32a04c19-09ce-4db9-b8f1-00f7fe8a6b81\">\n",
              "    <div class=\"colab-df-container\">\n",
              "      <div>\n",
              "<style scoped>\n",
              "    .dataframe tbody tr th:only-of-type {\n",
              "        vertical-align: middle;\n",
              "    }\n",
              "\n",
              "    .dataframe tbody tr th {\n",
              "        vertical-align: top;\n",
              "    }\n",
              "\n",
              "    .dataframe thead th {\n",
              "        text-align: right;\n",
              "    }\n",
              "</style>\n",
              "<table border=\"1\" class=\"dataframe\">\n",
              "  <thead>\n",
              "    <tr style=\"text-align: right;\">\n",
              "      <th></th>\n",
              "      <th>Kernel Shape</th>\n",
              "      <th>Output Shape</th>\n",
              "      <th>Params</th>\n",
              "      <th>Mult-Adds</th>\n",
              "    </tr>\n",
              "    <tr>\n",
              "      <th>Layer</th>\n",
              "      <th></th>\n",
              "      <th></th>\n",
              "      <th></th>\n",
              "      <th></th>\n",
              "    </tr>\n",
              "  </thead>\n",
              "  <tbody>\n",
              "    <tr>\n",
              "      <th>0_encoder.LSTM_base_lstm</th>\n",
              "      <td>-</td>\n",
              "      <td>[18712, 1024]</td>\n",
              "      <td>2166784.0</td>\n",
              "      <td>2158592.0</td>\n",
              "    </tr>\n",
              "    <tr>\n",
              "      <th>1_encoder.pBLSTMs.0.LockedDropout_locked_dropout</th>\n",
              "      <td>-</td>\n",
              "      <td>[96, 153, 2048]</td>\n",
              "      <td>NaN</td>\n",
              "      <td>NaN</td>\n",
              "    </tr>\n",
              "    <tr>\n",
              "      <th>2_encoder.pBLSTMs.0.LSTM_blstm</th>\n",
              "      <td>-</td>\n",
              "      <td>[9331, 1024]</td>\n",
              "      <td>10493952.0</td>\n",
              "      <td>10485760.0</td>\n",
              "    </tr>\n",
              "    <tr>\n",
              "      <th>3_encoder.pBLSTMs.1.LockedDropout_locked_dropout</th>\n",
              "      <td>-</td>\n",
              "      <td>[96, 76, 2048]</td>\n",
              "      <td>NaN</td>\n",
              "      <td>NaN</td>\n",
              "    </tr>\n",
              "    <tr>\n",
              "      <th>4_encoder.pBLSTMs.1.LSTM_blstm</th>\n",
              "      <td>-</td>\n",
              "      <td>[4644, 1024]</td>\n",
              "      <td>10493952.0</td>\n",
              "      <td>10485760.0</td>\n",
              "    </tr>\n",
              "    <tr>\n",
              "      <th>...</th>\n",
              "      <td>...</td>\n",
              "      <td>...</td>\n",
              "      <td>...</td>\n",
              "      <td>...</td>\n",
              "    </tr>\n",
              "    <tr>\n",
              "      <th>2155_decoder.lstm_cells.LSTMCell_2</th>\n",
              "      <td>-</td>\n",
              "      <td>[96, 128]</td>\n",
              "      <td>NaN</td>\n",
              "      <td>589824.0</td>\n",
              "    </tr>\n",
              "    <tr>\n",
              "      <th>2156_decoder.attention.Linear_query_projection</th>\n",
              "      <td>[128, 128]</td>\n",
              "      <td>[96, 128]</td>\n",
              "      <td>NaN</td>\n",
              "      <td>16384.0</td>\n",
              "    </tr>\n",
              "    <tr>\n",
              "      <th>2157_decoder.attention.Softmax_softmax</th>\n",
              "      <td>-</td>\n",
              "      <td>[96, 38]</td>\n",
              "      <td>NaN</td>\n",
              "      <td>NaN</td>\n",
              "    </tr>\n",
              "    <tr>\n",
              "      <th>2158_decoder.attention.Dropout_dropout</th>\n",
              "      <td>-</td>\n",
              "      <td>[96, 38]</td>\n",
              "      <td>NaN</td>\n",
              "      <td>NaN</td>\n",
              "    </tr>\n",
              "    <tr>\n",
              "      <th>2159_decoder.Linear_char_prob</th>\n",
              "      <td>[256, 30]</td>\n",
              "      <td>[96, 30]</td>\n",
              "      <td>NaN</td>\n",
              "      <td>7680.0</td>\n",
              "    </tr>\n",
              "  </tbody>\n",
              "</table>\n",
              "<p>2160 rows × 4 columns</p>\n",
              "</div>\n",
              "      <button class=\"colab-df-convert\" onclick=\"convertToInteractive('df-32a04c19-09ce-4db9-b8f1-00f7fe8a6b81')\"\n",
              "              title=\"Convert this dataframe to an interactive table.\"\n",
              "              style=\"display:none;\">\n",
              "        \n",
              "  <svg xmlns=\"http://www.w3.org/2000/svg\" height=\"24px\"viewBox=\"0 0 24 24\"\n",
              "       width=\"24px\">\n",
              "    <path d=\"M0 0h24v24H0V0z\" fill=\"none\"/>\n",
              "    <path d=\"M18.56 5.44l.94 2.06.94-2.06 2.06-.94-2.06-.94-.94-2.06-.94 2.06-2.06.94zm-11 1L8.5 8.5l.94-2.06 2.06-.94-2.06-.94L8.5 2.5l-.94 2.06-2.06.94zm10 10l.94 2.06.94-2.06 2.06-.94-2.06-.94-.94-2.06-.94 2.06-2.06.94z\"/><path d=\"M17.41 7.96l-1.37-1.37c-.4-.4-.92-.59-1.43-.59-.52 0-1.04.2-1.43.59L10.3 9.45l-7.72 7.72c-.78.78-.78 2.05 0 2.83L4 21.41c.39.39.9.59 1.41.59.51 0 1.02-.2 1.41-.59l7.78-7.78 2.81-2.81c.8-.78.8-2.07 0-2.86zM5.41 20L4 18.59l7.72-7.72 1.47 1.35L5.41 20z\"/>\n",
              "  </svg>\n",
              "      </button>\n",
              "      \n",
              "  <style>\n",
              "    .colab-df-container {\n",
              "      display:flex;\n",
              "      flex-wrap:wrap;\n",
              "      gap: 12px;\n",
              "    }\n",
              "\n",
              "    .colab-df-convert {\n",
              "      background-color: #E8F0FE;\n",
              "      border: none;\n",
              "      border-radius: 50%;\n",
              "      cursor: pointer;\n",
              "      display: none;\n",
              "      fill: #1967D2;\n",
              "      height: 32px;\n",
              "      padding: 0 0 0 0;\n",
              "      width: 32px;\n",
              "    }\n",
              "\n",
              "    .colab-df-convert:hover {\n",
              "      background-color: #E2EBFA;\n",
              "      box-shadow: 0px 1px 2px rgba(60, 64, 67, 0.3), 0px 1px 3px 1px rgba(60, 64, 67, 0.15);\n",
              "      fill: #174EA6;\n",
              "    }\n",
              "\n",
              "    [theme=dark] .colab-df-convert {\n",
              "      background-color: #3B4455;\n",
              "      fill: #D2E3FC;\n",
              "    }\n",
              "\n",
              "    [theme=dark] .colab-df-convert:hover {\n",
              "      background-color: #434B5C;\n",
              "      box-shadow: 0px 1px 3px 1px rgba(0, 0, 0, 0.15);\n",
              "      filter: drop-shadow(0px 1px 2px rgba(0, 0, 0, 0.3));\n",
              "      fill: #FFFFFF;\n",
              "    }\n",
              "  </style>\n",
              "\n",
              "      <script>\n",
              "        const buttonEl =\n",
              "          document.querySelector('#df-32a04c19-09ce-4db9-b8f1-00f7fe8a6b81 button.colab-df-convert');\n",
              "        buttonEl.style.display =\n",
              "          google.colab.kernel.accessAllowed ? 'block' : 'none';\n",
              "\n",
              "        async function convertToInteractive(key) {\n",
              "          const element = document.querySelector('#df-32a04c19-09ce-4db9-b8f1-00f7fe8a6b81');\n",
              "          const dataTable =\n",
              "            await google.colab.kernel.invokeFunction('convertToInteractive',\n",
              "                                                     [key], {});\n",
              "          if (!dataTable) return;\n",
              "\n",
              "          const docLinkHtml = 'Like what you see? Visit the ' +\n",
              "            '<a target=\"_blank\" href=https://colab.research.google.com/notebooks/data_table.ipynb>data table notebook</a>'\n",
              "            + ' to learn more about interactive tables.';\n",
              "          element.innerHTML = '';\n",
              "          dataTable['output_type'] = 'display_data';\n",
              "          await google.colab.output.renderOutput(dataTable, element);\n",
              "          const docLink = document.createElement('div');\n",
              "          docLink.innerHTML = docLinkHtml;\n",
              "          element.appendChild(docLink);\n",
              "        }\n",
              "      </script>\n",
              "    </div>\n",
              "  </div>\n",
              "  "
            ]
          },
          "metadata": {},
          "execution_count": 29
        }
      ],
      "source": [
        "# Baseline LAS has the following configuration:\n",
        "# Encoder bLSTM/pbLSTM Hidden Dimension of 512 (256 per direction)\n",
        "# Decoder Embedding Layer Dimension of 256\n",
        "# Decoder Hidden Dimension of 512 \n",
        "# Decoder Output Dimension of 128\n",
        "# Attention Projection Size of 128\n",
        "\n",
        "model = LAS(\n",
        "    input_size=15, encoder_hidden_size=512, vocab_size=len(VOCAB),\n",
        "    embed_size=256, decoder_hidden_size=1024, decoder_output_size=128,\n",
        "    projection_size=128\n",
        ")\n",
        "\n",
        "model = model.to(DEVICE)\n",
        "\n",
        "summary(model, \n",
        "        x= example_batch[0].to(DEVICE), \n",
        "        x_lens= example_batch[3], \n",
        "        y= example_batch[1].to(DEVICE))"
      ]
    },
    {
      "cell_type": "markdown",
      "source": [
        "---"
      ],
      "metadata": {
        "id": "WDw9rnVdlrKa"
      }
    },
    {
      "cell_type": "markdown",
      "metadata": {
        "id": "EHMzR6fLht5n"
      },
      "source": [
        "# IV. Training Setup"
      ]
    },
    {
      "cell_type": "markdown",
      "metadata": {
        "id": "TDmcYul-YSdC"
      },
      "source": [
        "## Optimizer, Scheduler, Loss Function"
      ]
    },
    {
      "cell_type": "code",
      "execution_count": 30,
      "metadata": {
        "id": "_HwmgDSvbtmd"
      },
      "outputs": [],
      "source": [
        "optimizer   = torch.optim.AdamW(model.parameters(), lr= config['lr'], amsgrad= True, weight_decay= 1e-4)\n",
        "criterion   = torch.nn.CrossEntropyLoss(reduction='none', label_smoothing=0.1)\n",
        "scaler      = torch.cuda.amp.GradScaler()\n",
        "\n",
        "scheduler = torch.optim.lr_scheduler.CosineAnnealingLR(optimizer, T_max=config[\"epochs\"])"
      ]
    },
    {
      "cell_type": "markdown",
      "metadata": {
        "id": "baHCja89YV-m"
      },
      "source": [
        "## Levenshtein Distance"
      ]
    },
    {
      "cell_type": "code",
      "execution_count": 31,
      "metadata": {
        "id": "GDYZnnLbqJ8J"
      },
      "outputs": [],
      "source": [
        "#Calculating the levenshtein distance between predicted sequence and true sequence\n",
        "def calc_edit_distance(predictions, y, ly, vocab=VOCAB, print_example= False):\n",
        "\n",
        "    dist = 0\n",
        "    batch_size, seq_len = predictions.shape\n",
        "\n",
        "    for batch_idx in range(batch_size): \n",
        "\n",
        "        y_sliced = indices_to_chars(y[batch_idx,0:ly[batch_idx]], vocab)\n",
        "        pred_sliced = indices_to_chars(predictions[batch_idx], vocab)\n",
        "\n",
        "        # Conver indices to sequences\n",
        "        y_string = ''.join(y_sliced)\n",
        "        pred_string = ''.join(pred_sliced)\n",
        "        \n",
        "        dist += Levenshtein.distance(pred_string, y_string)\n",
        "\n",
        "    if print_example: \n",
        "        print(\"Ground Truth : \", y_string)\n",
        "        print(\"Prediction   : \", pred_string)\n",
        "        \n",
        "    dist/=batch_size\n",
        "    return dist"
      ]
    },
    {
      "cell_type": "markdown",
      "metadata": {
        "id": "1zjfF88iZ4Nc"
      },
      "source": [
        "## Train and Evaluation Functions"
      ]
    },
    {
      "cell_type": "code",
      "execution_count": 32,
      "metadata": {
        "id": "wIXzhQclhs98"
      },
      "outputs": [],
      "source": [
        "def train(model, dataloader, criterion, optimizer, tf_rate):\n",
        "\n",
        "    model.train()\n",
        "    batch_bar = tqdm(total=len(dataloader), dynamic_ncols=True, leave=False, position=0, desc='Train')\n",
        "\n",
        "    running_loss        = 0.0\n",
        "    running_perplexity  = 0.0\n",
        "    \n",
        "    for i, (x, y, lx, ly) in enumerate(dataloader):\n",
        "\n",
        "        optimizer.zero_grad()\n",
        "\n",
        "        x, y, lx, ly = x.to(DEVICE), y.to(DEVICE), lx, ly\n",
        "\n",
        "        with torch.cuda.amp.autocast():\n",
        "\n",
        "            predictions, attention_plot = model(x, lx, y=y, tf_rate=tf_rate)\n",
        "\n",
        "            preds = predictions.reshape(-1, predictions.shape[-1])\n",
        "            trans = y.reshape(-1)\n",
        "            loss =  criterion(preds, trans)\n",
        "            \n",
        "            # Generating mask\n",
        "            lens = ly.to(DEVICE)\n",
        "            max_len = lens.max()\n",
        "            mask = torch.arange(0, max_len).repeat(lens.shape[0], 1).to(DEVICE)\n",
        "            y_lens = lens.unsqueeze(1).expand(lens.shape[0], max_len).int()\n",
        "            mask = mask < y_lens\n",
        "            \n",
        "            masked_loss = torch.sum(loss * mask.reshape(-1)) / mask.sum()\n",
        "            perplexity  = torch.exp(masked_loss)\n",
        "\n",
        "            running_loss += masked_loss.item()\n",
        "            running_perplexity += perplexity.item()\n",
        "            \n",
        "        \n",
        "        scaler.scale(masked_loss).backward()\n",
        "        scaler.step(optimizer)\n",
        "        scaler.update()\n",
        "        \n",
        "\n",
        "        batch_bar.set_postfix(\n",
        "            loss=\"{:.04f}\".format(running_loss/(i+1)),\n",
        "            perplexity=\"{:.04f}\".format(running_perplexity/(i+1)),\n",
        "            lr=\"{:.04f}\".format(float(optimizer.param_groups[0]['lr'])),\n",
        "            tf_rate='{:.02f}'.format(tf_rate))\n",
        "        batch_bar.update()\n",
        "\n",
        "        del x, y, lx, ly, preds, trans, lens, mask\n",
        "        torch.cuda.empty_cache()\n",
        "    \n",
        "    running_loss /= len(dataloader)\n",
        "    running_perplexity /= len(dataloader)\n",
        "    batch_bar.close()\n",
        "\n",
        "    return running_loss, running_perplexity, attention_plot"
      ]
    },
    {
      "cell_type": "code",
      "execution_count": 33,
      "metadata": {
        "id": "jzpCjd9R5VYV"
      },
      "outputs": [],
      "source": [
        "def validate(model, dataloader):\n",
        "\n",
        "    model.eval()\n",
        "\n",
        "    batch_bar = tqdm(total=len(dataloader), dynamic_ncols=True, position=0, leave=False, desc=\"Val\")\n",
        "\n",
        "    running_lev_dist = 0.0\n",
        "    running_loss = 0.0\n",
        "\n",
        "    for i, (x, y, lx, ly) in enumerate(dataloader):\n",
        "\n",
        "        x, y, lx, ly = x.to(DEVICE), y.to(DEVICE), lx, ly\n",
        "\n",
        "        with torch.inference_mode():\n",
        "            predictions, attentions = model(x, lx, y = None)\n",
        "\n",
        "        # Greedy Decoding\n",
        "        greedy_predictions = predictions.argmax(dim=-1)\n",
        "\n",
        "        # Calculate Levenshtein Distance\n",
        "        running_lev_dist += calc_edit_distance(greedy_predictions, y, ly, VOCAB, print_example = False)\n",
        "   \n",
        "        batch_bar.set_postfix(\n",
        "            dist=\"{:.04f}\".format(running_lev_dist/(i+1)))\n",
        "        batch_bar.update()\n",
        "\n",
        "        del x, y, lx, ly\n",
        "        torch.cuda.empty_cache()\n",
        "\n",
        "\n",
        "    batch_bar.close()\n",
        "    running_lev_dist /= len(dataloader)\n",
        "\n",
        "    return running_lev_dist"
      ]
    },
    {
      "cell_type": "markdown",
      "source": [
        "---"
      ],
      "metadata": {
        "id": "glz-qhsNlpak"
      }
    },
    {
      "cell_type": "markdown",
      "metadata": {
        "id": "99rJQUdPkCUq"
      },
      "source": [
        "# V. Training"
      ]
    },
    {
      "cell_type": "code",
      "execution_count": null,
      "metadata": {
        "id": "s12S_bPMcguA",
        "tags": []
      },
      "outputs": [],
      "source": [
        "best_lev_dist = float(\"inf\")\n",
        "tf_rate = config[\"tf\"]\n",
        "\n",
        "\n",
        "for epoch in range(config[\"epochs\"]):\n",
        "    start_time = time.time()\n",
        "    print(\"\\nEpoch: {}/{}\".format(epoch+1, config['epochs']))\n",
        "\n",
        "    train_loss, perplexity, attention_plot = train(model, train_loader, criterion, optimizer, tf_rate)\n",
        "    print(f\"Train loss: {train_loss:.4f}\\tTrain perplexity: {perplexity:.4f}\\tTF: {tf_rate:.4f}\")\n",
        "    # Print metrics\n",
        "    valid_dist = validate(model, valid_loader)\n",
        "\n",
        "    curr_lr = float(optimizer.param_groups[0][\"lr\"])\n",
        "    end_time = time.time()\n",
        "    total_time = (end_time - start_time) / 60\n",
        "\n",
        "    print(f\"Valid dist: {valid_dist:.4f}\\tlr: {curr_lr:.4f}\\tEpoch time: {total_time:.4f}min\")\n",
        "    \n",
        "    scheduler.step()\n",
        "    plot_attention(attention_plot)\n",
        "\n",
        "    # Teacher forcing scheduler\n",
        "    if (epoch + 1) % 10 == 0:\n",
        "        tf_rate *= 0.85\n",
        "\n",
        "    if valid_dist <= best_lev_dist:\n",
        "        print(\"Saving lev distance model\")\n",
        "        torch.save({'model_state_dict':model.state_dict(),\n",
        "                  'optimizer_state_dict':optimizer.state_dict(),\n",
        "                  'val_dist': valid_dist, \n",
        "                  'epoch': epoch}, 'checkpoint.pth')\n",
        "        best_lev_dist = valid_dist"
      ]
    },
    {
      "cell_type": "markdown",
      "metadata": {
        "id": "r3iickk_kJNB"
      },
      "source": [
        "# VI. Testing"
      ]
    },
    {
      "cell_type": "code",
      "execution_count": 35,
      "metadata": {
        "id": "s7HihzA4ViiR",
        "colab": {
          "base_uri": "https://localhost:8080/"
        },
        "outputId": "2b1c80be-1084-476d-d4a4-acead3e6996d"
      },
      "outputs": [
        {
          "output_type": "stream",
          "name": "stdout",
          "text": [
            "dict_keys(['model_state_dict', 'optimizer_state_dict', 'val_dist', 'epoch'])\n"
          ]
        },
        {
          "output_type": "execute_result",
          "data": {
            "text/plain": [
              "<All keys matched successfully>"
            ]
          },
          "metadata": {},
          "execution_count": 35
        }
      ],
      "source": [
        "# Load the best model\n",
        "best_state = torch.load(\"/content/drive/MyDrive/checkpoint.pth\")\n",
        "print(best_state.keys())\n",
        "model.load_state_dict(best_state[\"model_state_dict\"])"
      ]
    },
    {
      "cell_type": "markdown",
      "source": [
        "## Visualizing Attention"
      ],
      "metadata": {
        "id": "UitqSLbomVrF"
      }
    },
    {
      "cell_type": "code",
      "execution_count": 36,
      "metadata": {
        "id": "ZG0DCMkAT3LF",
        "colab": {
          "base_uri": "https://localhost:8080/",
          "height": 366
        },
        "outputId": "5bd37da2-c949-4e79-816a-2506581bc265"
      },
      "outputs": [
        {
          "output_type": "stream",
          "name": "stdout",
          "text": [
            "Ground truth string:\n",
            "and i have had some diffidence upon that and thou hast cleared a morning to me again and my heart is alive david's heart smote him when he cut off the skirt from saul\n",
            "\n",
            "Predicted string:\n",
            "and i have had some diffidence upon that and thou hast cleared a morning to me again and my heart is alive david's heart smote him when he cut off the skirt from saul\n"
          ]
        },
        {
          "output_type": "display_data",
          "data": {
            "text/plain": [
              "<Figure size 432x288 with 2 Axes>"
            ],
            "image/png": "[encoded data removed]"
          },
          "metadata": {
            "needs_background": "light"
          }
        }
      ],
      "source": [
        "test_data = next(iter(train_loader))\n",
        "x, y, lx, ly = test_data\n",
        "x, y, lx, ly = x.to(DEVICE), y.to(DEVICE), lx, ly\n",
        "\n",
        "model.eval()\n",
        "with torch.no_grad():\n",
        "    predictions, attention = model(x, lx, y=None)\n",
        "\n",
        "ground_truth = indices_to_chars(y[0], VOCAB)\n",
        "print(\"Ground truth string:\")\n",
        "print(\"\".join(ground_truth).lower())\n",
        "\n",
        "pred = predictions.argmax(dim=-1)[0]\n",
        "pred = indices_to_chars(pred, VOCAB)\n",
        "print(\"\\nPredicted string:\")\n",
        "print(\"\".join(pred).lower())\n",
        "\n",
        "atten = attention.detach().cpu().numpy()\n",
        "\n",
        "sns.heatmap(atten[:len(ground_truth), :len(ground_truth)])\n",
        "plt.show()\n",
        "\n",
        "torch.cuda.empty_cache()\n",
        "del x, y, lx, ly, predictions, attention"
      ]
    },
    {
      "cell_type": "markdown",
      "source": [
        "## Making Predictions"
      ],
      "metadata": {
        "id": "7BNzaMyFmcyL"
      }
    },
    {
      "cell_type": "code",
      "execution_count": 37,
      "metadata": {
        "id": "mTBD49c_kKs3"
      },
      "outputs": [],
      "source": [
        "def predict(model, dataloader):\n",
        "\n",
        "    model.eval()\n",
        "\n",
        "    batch_bar = tqdm(total=len(dataloader), dynamic_ncols=True, position=0, leave=False, desc=\"Predict\")\n",
        "\n",
        "    preds = []\n",
        "\n",
        "    for i, (x, lx) in enumerate(dataloader):\n",
        "\n",
        "        x, lx = x.to(DEVICE), lx\n",
        "\n",
        "        with torch.inference_mode():\n",
        "            predictions, attentions = model(x, lx, y = None)\n",
        "\n",
        "        # Greedy Decoding\n",
        "        predictions = predictions.argmax(dim=-1)\n",
        "        \n",
        "        batch_size, seq_len = predictions.shape\n",
        "\n",
        "        for batch_idx in range(batch_size): \n",
        "            text = indices_to_chars(predictions[batch_idx], VOCAB)\n",
        "            out_text = \"\".join(text)\n",
        "            preds.append(out_text)\n",
        "        \n",
        "        batch_bar.update()\n",
        "\n",
        "        del x, lx\n",
        "        torch.cuda.empty_cache()\n",
        "\n",
        "    batch_bar.close()\n",
        "\n",
        "    return preds"
      ]
    },
    {
      "cell_type": "code",
      "execution_count": 38,
      "metadata": {
        "id": "hhCBqUBhT3LG",
        "colab": {
          "base_uri": "https://localhost:8080/"
        },
        "outputId": "4df2188f-c526-4be7-b761-0a888d080663"
      },
      "outputs": [
        {
          "output_type": "stream",
          "name": "stderr",
          "text": [
            "/usr/local/lib/python3.8/dist-packages/torch/utils/data/dataloader.py:554: UserWarning: This DataLoader will create 5 worker processes in total. Our suggested max number of worker in current system is 2, which is smaller than what this DataLoader is going to create. Please be aware that excessive worker creation might get DataLoader running slow or even freeze, lower the worker number to avoid potential slowness/freeze if necessary.\n",
            "  warnings.warn(_create_warning_msg(\n"
          ]
        }
      ],
      "source": [
        "test_data = AudioDatasetTest(file_path)\n",
        "test_loader = DataLoader(test_data, batch_size=BATCH_SIZE, num_workers=5, pin_memory=True,\n",
        "                         shuffle=False, collate_fn=test_data.collate_fn)"
      ]
    },
    {
      "cell_type": "code",
      "execution_count": 39,
      "metadata": {
        "id": "7qYbl4ojT3LG",
        "colab": {
          "base_uri": "https://localhost:8080/",
          "height": 17,
          "referenced_widgets": [
            "0120890dffff406bb4216ef96c0ba7f5",
            "e1ee561e3f884b1dbf4afa9a02fbadd4",
            "a108aa4f537547189770ccff409b5200",
            "00f2577152da426d97e4d973b34fbb6e",
            "7f59418450bc4b63a2248314d0606a3d",
            "03a8cfa09cfd42b791c44b18ea81fd71",
            "0465909e1a4b4c5aa2878a801142af75",
            "d8893b8bec504fcabeb19b2491d2f837",
            "d9fd6c0705dc4d44b5f006c5e9559bef",
            "57ee0dffd7e94b148b83ce016ba07769",
            "9fcaa7060402426498254d714d25aa8a"
          ]
        },
        "outputId": "d629e60e-8f77-4a2a-81b8-aa0cc0350302"
      },
      "outputs": [
        {
          "output_type": "display_data",
          "data": {
            "text/plain": [
              "Predict:   0%|          | 0/28 [00:00<?, ?it/s]"
            ],
            "application/vnd.jupyter.widget-view+json": {
              "version_major": 2,
              "version_minor": 0,
              "model_id": "0120890dffff406bb4216ef96c0ba7f5"
            }
          },
          "metadata": {}
        }
      ],
      "source": [
        "torch.cuda.empty_cache()\n",
        "output_texts = predict(model, test_loader)"
      ]
    },
    {
      "cell_type": "code",
      "execution_count": 44,
      "metadata": {
        "id": "jlI4b7KgT3LG",
        "colab": {
          "base_uri": "https://localhost:8080/"
        },
        "outputId": "2eba6a51-dd1b-4520-92af-6af33ffde8f6"
      },
      "outputs": [
        {
          "output_type": "stream",
          "name": "stdout",
          "text": [
            "Total outputs:  2620\n",
            "he began a confused complaint against the whister who had vanished behind the curtain on the left \n",
            "\n",
            "cut how so earnest a mind to these mummery is child \n",
            "\n",
            "a golden fortune in a happy life \n",
            "\n",
            "he was like up to my father in a way and yet was not my father \n",
            "\n",
            "also there was a stripping page who turned it to ameed \n",
            "\n",
            "this was so sweetly a d sir and some manner i do think she died \n",
            "\n",
            "but then the picture was gone as quickly as it came \n",
            "\n",
            "sister now do you hear these marvels \n",
            "\n",
            "take your pace and let us see what the crisp concholte you \n",
            "\n",
            "like as not young master though ah im an old man \n",
            "\n",
            "forth with all ran to the opening of the tent to see what might be a miss but master will who peeped out first needed no more than one glance \n",
            "\n",
            "he gave we to the other's very redtally and retreated unperceived by the squire and mistress fittutives to the rear of the tent \n",
            "\n",
            "cries of aunting ham but notting him \n",
            "\n",
            "before them fled the stroller and his three sons capitalist terrified \n",
            "\n",
            "what is that tumult and rioting cried out the squire thoritated eliand he blew twice on the solar whistle which hung at his belt \n",
            "\n",
            "nay we were freezed there are quest most politely most noble said the little stroller \n",
            "\n",
            "and then they became vexed and would have snatched her person from us \n",
            "\n",
            "i could not see my boy injured excellence for but doing his duty as one of comprominence sons \n",
            "\n",
            "so by did push this village \n",
            "\n",
            "it is eaten not said george game will sharply as he turned upon the crowd \n",
            "\n"
          ]
        }
      ],
      "source": [
        "# Print out predicted results\n",
        "print(\"Total outputs: \", len(output_texts))\n",
        "for i in range(20): # Only show 20 predictions\n",
        "    print(output_texts[i].lower(), \"\\n\")"
      ]
    }
  ],
  "metadata": {
    "accelerator": "GPU",
    "colab": {
      "provenance": [],
      "include_colab_link": true
    },
    "gpuClass": "standard",
    "kernelspec": {
      "display_name": "Python 3 (ipykernel)",
      "language": "python",
      "name": "python3"
    },
    "language_info": {
      "codemirror_mode": {
        "name": "ipython",
        "version": 3
      },
      "file_extension": ".py",
      "mimetype": "text/x-python",
      "name": "python",
      "nbconvert_exporter": "python",
      "pygments_lexer": "ipython3",
      "version": "3.9.15"
    },
    "widgets": {
      "application/vnd.jupyter.widget-state+json": {
        "0120890dffff406bb4216ef96c0ba7f5": {
          "model_module": "@jupyter-widgets/controls",
          "model_name": "HBoxModel",
          "model_module_version": "1.5.0",
          "state": {
            "_dom_classes": [],
            "_model_module": "@jupyter-widgets/controls",
            "_model_module_version": "1.5.0",
            "_model_name": "HBoxModel",
            "_view_count": null,
            "_view_module": "@jupyter-widgets/controls",
            "_view_module_version": "1.5.0",
            "_view_name": "HBoxView",
            "box_style": "",
            "children": [
              "IPY_MODEL_e1ee561e3f884b1dbf4afa9a02fbadd4",
              "IPY_MODEL_a108aa4f537547189770ccff409b5200",
              "IPY_MODEL_00f2577152da426d97e4d973b34fbb6e"
            ],
            "layout": "IPY_MODEL_7f59418450bc4b63a2248314d0606a3d"
          }
        },
        "e1ee561e3f884b1dbf4afa9a02fbadd4": {
          "model_module": "@jupyter-widgets/controls",
          "model_name": "HTMLModel",
          "model_module_version": "1.5.0",
          "state": {
            "_dom_classes": [],
            "_model_module": "@jupyter-widgets/controls",
            "_model_module_version": "1.5.0",
            "_model_name": "HTMLModel",
            "_view_count": null,
            "_view_module": "@jupyter-widgets/controls",
            "_view_module_version": "1.5.0",
            "_view_name": "HTMLView",
            "description": "",
            "description_tooltip": null,
            "layout": "IPY_MODEL_03a8cfa09cfd42b791c44b18ea81fd71",
            "placeholder": "​",
            "style": "IPY_MODEL_0465909e1a4b4c5aa2878a801142af75",
            "value": "Predict: 100%"
          }
        },
        "a108aa4f537547189770ccff409b5200": {
          "model_module": "@jupyter-widgets/controls",
          "model_name": "FloatProgressModel",
          "model_module_version": "1.5.0",
          "state": {
            "_dom_classes": [],
            "_model_module": "@jupyter-widgets/controls",
            "_model_module_version": "1.5.0",
            "_model_name": "FloatProgressModel",
            "_view_count": null,
            "_view_module": "@jupyter-widgets/controls",
            "_view_module_version": "1.5.0",
            "_view_name": "ProgressView",
            "bar_style": "",
            "description": "",
            "description_tooltip": null,
            "layout": "IPY_MODEL_d8893b8bec504fcabeb19b2491d2f837",
            "max": 28,
            "min": 0,
            "orientation": "horizontal",
            "style": "IPY_MODEL_d9fd6c0705dc4d44b5f006c5e9559bef",
            "value": 28
          }
        },
        "00f2577152da426d97e4d973b34fbb6e": {
          "model_module": "@jupyter-widgets/controls",
          "model_name": "HTMLModel",
          "model_module_version": "1.5.0",
          "state": {
            "_dom_classes": [],
            "_model_module": "@jupyter-widgets/controls",
            "_model_module_version": "1.5.0",
            "_model_name": "HTMLModel",
            "_view_count": null,
            "_view_module": "@jupyter-widgets/controls",
            "_view_module_version": "1.5.0",
            "_view_name": "HTMLView",
            "description": "",
            "description_tooltip": null,
            "layout": "IPY_MODEL_57ee0dffd7e94b148b83ce016ba07769",
            "placeholder": "​",
            "style": "IPY_MODEL_9fcaa7060402426498254d714d25aa8a",
            "value": " 28/28 [00:55&lt;00:00,  1.71s/it]"
          }
        },
        "7f59418450bc4b63a2248314d0606a3d": {
          "model_module": "@jupyter-widgets/base",
          "model_name": "LayoutModel",
          "model_module_version": "1.2.0",
          "state": {
            "_model_module": "@jupyter-widgets/base",
            "_model_module_version": "1.2.0",
            "_model_name": "LayoutModel",
            "_view_count": null,
            "_view_module": "@jupyter-widgets/base",
            "_view_module_version": "1.2.0",
            "_view_name": "LayoutView",
            "align_content": null,
            "align_items": null,
            "align_self": null,
            "border": null,
            "bottom": null,
            "display": "inline-flex",
            "flex": null,
            "flex_flow": "row wrap",
            "grid_area": null,
            "grid_auto_columns": null,
            "grid_auto_flow": null,
            "grid_auto_rows": null,
            "grid_column": null,
            "grid_gap": null,
            "grid_row": null,
            "grid_template_areas": null,
            "grid_template_columns": null,
            "grid_template_rows": null,
            "height": null,
            "justify_content": null,
            "justify_items": null,
            "left": null,
            "margin": null,
            "max_height": null,
            "max_width": null,
            "min_height": null,
            "min_width": null,
            "object_fit": null,
            "object_position": null,
            "order": null,
            "overflow": null,
            "overflow_x": null,
            "overflow_y": null,
            "padding": null,
            "right": null,
            "top": null,
            "visibility": "hidden",
            "width": "100%"
          }
        },
        "03a8cfa09cfd42b791c44b18ea81fd71": {
          "model_module": "@jupyter-widgets/base",
          "model_name": "LayoutModel",
          "model_module_version": "1.2.0",
          "state": {
            "_model_module": "@jupyter-widgets/base",
            "_model_module_version": "1.2.0",
            "_model_name": "LayoutModel",
            "_view_count": null,
            "_view_module": "@jupyter-widgets/base",
            "_view_module_version": "1.2.0",
            "_view_name": "LayoutView",
            "align_content": null,
            "align_items": null,
            "align_self": null,
            "border": null,
            "bottom": null,
            "display": null,
            "flex": null,
            "flex_flow": null,
            "grid_area": null,
            "grid_auto_columns": null,
            "grid_auto_flow": null,
            "grid_auto_rows": null,
            "grid_column": null,
            "grid_gap": null,
            "grid_row": null,
            "grid_template_areas": null,
            "grid_template_columns": null,
            "grid_template_rows": null,
            "height": null,
            "justify_content": null,
            "justify_items": null,
            "left": null,
            "margin": null,
            "max_height": null,
            "max_width": null,
            "min_height": null,
            "min_width": null,
            "object_fit": null,
            "object_position": null,
            "order": null,
            "overflow": null,
            "overflow_x": null,
            "overflow_y": null,
            "padding": null,
            "right": null,
            "top": null,
            "visibility": null,
            "width": null
          }
        },
        "0465909e1a4b4c5aa2878a801142af75": {
          "model_module": "@jupyter-widgets/controls",
          "model_name": "DescriptionStyleModel",
          "model_module_version": "1.5.0",
          "state": {
            "_model_module": "@jupyter-widgets/controls",
            "_model_module_version": "1.5.0",
            "_model_name": "DescriptionStyleModel",
            "_view_count": null,
            "_view_module": "@jupyter-widgets/base",
            "_view_module_version": "1.2.0",
            "_view_name": "StyleView",
            "description_width": ""
          }
        },
        "d8893b8bec504fcabeb19b2491d2f837": {
          "model_module": "@jupyter-widgets/base",
          "model_name": "LayoutModel",
          "model_module_version": "1.2.0",
          "state": {
            "_model_module": "@jupyter-widgets/base",
            "_model_module_version": "1.2.0",
            "_model_name": "LayoutModel",
            "_view_count": null,
            "_view_module": "@jupyter-widgets/base",
            "_view_module_version": "1.2.0",
            "_view_name": "LayoutView",
            "align_content": null,
            "align_items": null,
            "align_self": null,
            "border": null,
            "bottom": null,
            "display": null,
            "flex": "2",
            "flex_flow": null,
            "grid_area": null,
            "grid_auto_columns": null,
            "grid_auto_flow": null,
            "grid_auto_rows": null,
            "grid_column": null,
            "grid_gap": null,
            "grid_row": null,
            "grid_template_areas": null,
            "grid_template_columns": null,
            "grid_template_rows": null,
            "height": null,
            "justify_content": null,
            "justify_items": null,
            "left": null,
            "margin": null,
            "max_height": null,
            "max_width": null,
            "min_height": null,
            "min_width": null,
            "object_fit": null,
            "object_position": null,
            "order": null,
            "overflow": null,
            "overflow_x": null,
            "overflow_y": null,
            "padding": null,
            "right": null,
            "top": null,
            "visibility": null,
            "width": null
          }
        },
        "d9fd6c0705dc4d44b5f006c5e9559bef": {
          "model_module": "@jupyter-widgets/controls",
          "model_name": "ProgressStyleModel",
          "model_module_version": "1.5.0",
          "state": {
            "_model_module": "@jupyter-widgets/controls",
            "_model_module_version": "1.5.0",
            "_model_name": "ProgressStyleModel",
            "_view_count": null,
            "_view_module": "@jupyter-widgets/base",
            "_view_module_version": "1.2.0",
            "_view_name": "StyleView",
            "bar_color": null,
            "description_width": ""
          }
        },
        "57ee0dffd7e94b148b83ce016ba07769": {
          "model_module": "@jupyter-widgets/base",
          "model_name": "LayoutModel",
          "model_module_version": "1.2.0",
          "state": {
            "_model_module": "@jupyter-widgets/base",
            "_model_module_version": "1.2.0",
            "_model_name": "LayoutModel",
            "_view_count": null,
            "_view_module": "@jupyter-widgets/base",
            "_view_module_version": "1.2.0",
            "_view_name": "LayoutView",
            "align_content": null,
            "align_items": null,
            "align_self": null,
            "border": null,
            "bottom": null,
            "display": null,
            "flex": null,
            "flex_flow": null,
            "grid_area": null,
            "grid_auto_columns": null,
            "grid_auto_flow": null,
            "grid_auto_rows": null,
            "grid_column": null,
            "grid_gap": null,
            "grid_row": null,
            "grid_template_areas": null,
            "grid_template_columns": null,
            "grid_template_rows": null,
            "height": null,
            "justify_content": null,
            "justify_items": null,
            "left": null,
            "margin": null,
            "max_height": null,
            "max_width": null,
            "min_height": null,
            "min_width": null,
            "object_fit": null,
            "object_position": null,
            "order": null,
            "overflow": null,
            "overflow_x": null,
            "overflow_y": null,
            "padding": null,
            "right": null,
            "top": null,
            "visibility": null,
            "width": null
          }
        },
        "9fcaa7060402426498254d714d25aa8a": {
          "model_module": "@jupyter-widgets/controls",
          "model_name": "DescriptionStyleModel",
          "model_module_version": "1.5.0",
          "state": {
            "_model_module": "@jupyter-widgets/controls",
            "_model_module_version": "1.5.0",
            "_model_name": "DescriptionStyleModel",
            "_view_count": null,
            "_view_module": "@jupyter-widgets/base",
            "_view_module_version": "1.2.0",
            "_view_name": "StyleView",
            "description_width": ""
          }
        }
      }
    }
  },
  "nbformat": 4,
  "nbformat_minor": 0
}